{
 "cells": [
  {
   "cell_type": "markdown",
   "metadata": {},
   "source": [
    "# Cleaning openfoodfacts dataset\n",
    "#### by Jérôme d'Harveng\n",
    "\n",
    "<a id='table'></a>\n",
    "## Table of Contents\n",
    "<ul>\n",
    "<li><a href=\"#gathering\">Gathering the data</a></li>\n",
    "<li><a href=\"#assessing\">Assessing</a></li>\n",
    "<li><a href=\"#cleaning\">Cleaning</a></li>\n",
    "<li><a href=\"#exporting\">Exporting to csv</a></li>\n",
    "</ul>"
   ]
  },
  {
   "cell_type": "markdown",
   "metadata": {},
   "source": [
    "<a id='gathering'></a>\n",
    "## Gathering "
   ]
  },
  {
   "cell_type": "code",
   "execution_count": 13,
   "metadata": {},
   "outputs": [],
   "source": [
    "# import of necessary libraries\n",
    "import pandas as pd\n",
    "import numpy as np"
   ]
  },
  {
   "cell_type": "code",
   "execution_count": 14,
   "metadata": {},
   "outputs": [],
   "source": [
    "open_food_fct = pd.read_csv('fr.openfoodfacts.org.products.csv', sep=\"\\t\", encoding='utf_8', low_memory=False)"
   ]
  },
  {
   "cell_type": "markdown",
   "metadata": {},
   "source": [
    "<a id='assessing'></a>\n",
    "## Assessing"
   ]
  },
  {
   "cell_type": "markdown",
   "metadata": {},
   "source": [
    "### General info"
   ]
  },
  {
   "cell_type": "code",
   "execution_count": 15,
   "metadata": {},
   "outputs": [
    {
     "data": {
      "text/plain": [
       "(320772, 162)"
      ]
     },
     "execution_count": 15,
     "metadata": {},
     "output_type": "execute_result"
    }
   ],
   "source": [
    "# size of dataset\n",
    "open_food_fct.shape"
   ]
  },
  {
   "cell_type": "code",
   "execution_count": 16,
   "metadata": {},
   "outputs": [
    {
     "name": "stdout",
     "output_type": "stream",
     "text": [
      "<class 'pandas.core.frame.DataFrame'>\n",
      "RangeIndex: 320772 entries, 0 to 320771\n",
      "Columns: 162 entries, code to water-hardness_100g\n",
      "dtypes: float64(106), object(56)\n",
      "memory usage: 396.5+ MB\n"
     ]
    }
   ],
   "source": [
    "open_food_fct.info()"
   ]
  },
  {
   "cell_type": "markdown",
   "metadata": {},
   "source": [
    "### Visual inspection"
   ]
  },
  {
   "cell_type": "code",
   "execution_count": 18,
   "metadata": {},
   "outputs": [
    {
     "data": {
      "text/html": [
       "<div>\n",
       "<style scoped>\n",
       "    .dataframe tbody tr th:only-of-type {\n",
       "        vertical-align: middle;\n",
       "    }\n",
       "\n",
       "    .dataframe tbody tr th {\n",
       "        vertical-align: top;\n",
       "    }\n",
       "\n",
       "    .dataframe thead th {\n",
       "        text-align: right;\n",
       "    }\n",
       "</style>\n",
       "<table border=\"1\" class=\"dataframe\">\n",
       "  <thead>\n",
       "    <tr style=\"text-align: right;\">\n",
       "      <th></th>\n",
       "      <th>code</th>\n",
       "      <th>url</th>\n",
       "      <th>creator</th>\n",
       "      <th>created_t</th>\n",
       "      <th>created_datetime</th>\n",
       "      <th>last_modified_t</th>\n",
       "      <th>last_modified_datetime</th>\n",
       "      <th>product_name</th>\n",
       "      <th>generic_name</th>\n",
       "      <th>quantity</th>\n",
       "      <th>...</th>\n",
       "      <th>ph_100g</th>\n",
       "      <th>fruits-vegetables-nuts_100g</th>\n",
       "      <th>collagen-meat-protein-ratio_100g</th>\n",
       "      <th>cocoa_100g</th>\n",
       "      <th>chlorophyl_100g</th>\n",
       "      <th>carbon-footprint_100g</th>\n",
       "      <th>nutrition-score-fr_100g</th>\n",
       "      <th>nutrition-score-uk_100g</th>\n",
       "      <th>glycemic-index_100g</th>\n",
       "      <th>water-hardness_100g</th>\n",
       "    </tr>\n",
       "  </thead>\n",
       "  <tbody>\n",
       "    <tr>\n",
       "      <th>0</th>\n",
       "      <td>0000000003087</td>\n",
       "      <td>http://world-fr.openfoodfacts.org/produit/0000...</td>\n",
       "      <td>openfoodfacts-contributors</td>\n",
       "      <td>1474103866</td>\n",
       "      <td>2016-09-17T09:17:46Z</td>\n",
       "      <td>1474103893</td>\n",
       "      <td>2016-09-17T09:18:13Z</td>\n",
       "      <td>Farine de blé noir</td>\n",
       "      <td>NaN</td>\n",
       "      <td>1kg</td>\n",
       "      <td>...</td>\n",
       "      <td>NaN</td>\n",
       "      <td>NaN</td>\n",
       "      <td>NaN</td>\n",
       "      <td>NaN</td>\n",
       "      <td>NaN</td>\n",
       "      <td>NaN</td>\n",
       "      <td>NaN</td>\n",
       "      <td>NaN</td>\n",
       "      <td>NaN</td>\n",
       "      <td>NaN</td>\n",
       "    </tr>\n",
       "    <tr>\n",
       "      <th>1</th>\n",
       "      <td>0000000004530</td>\n",
       "      <td>http://world-fr.openfoodfacts.org/produit/0000...</td>\n",
       "      <td>usda-ndb-import</td>\n",
       "      <td>1489069957</td>\n",
       "      <td>2017-03-09T14:32:37Z</td>\n",
       "      <td>1489069957</td>\n",
       "      <td>2017-03-09T14:32:37Z</td>\n",
       "      <td>Banana Chips Sweetened (Whole)</td>\n",
       "      <td>NaN</td>\n",
       "      <td>NaN</td>\n",
       "      <td>...</td>\n",
       "      <td>NaN</td>\n",
       "      <td>NaN</td>\n",
       "      <td>NaN</td>\n",
       "      <td>NaN</td>\n",
       "      <td>NaN</td>\n",
       "      <td>NaN</td>\n",
       "      <td>14.0</td>\n",
       "      <td>14.0</td>\n",
       "      <td>NaN</td>\n",
       "      <td>NaN</td>\n",
       "    </tr>\n",
       "    <tr>\n",
       "      <th>2</th>\n",
       "      <td>0000000004559</td>\n",
       "      <td>http://world-fr.openfoodfacts.org/produit/0000...</td>\n",
       "      <td>usda-ndb-import</td>\n",
       "      <td>1489069957</td>\n",
       "      <td>2017-03-09T14:32:37Z</td>\n",
       "      <td>1489069957</td>\n",
       "      <td>2017-03-09T14:32:37Z</td>\n",
       "      <td>Peanuts</td>\n",
       "      <td>NaN</td>\n",
       "      <td>NaN</td>\n",
       "      <td>...</td>\n",
       "      <td>NaN</td>\n",
       "      <td>NaN</td>\n",
       "      <td>NaN</td>\n",
       "      <td>NaN</td>\n",
       "      <td>NaN</td>\n",
       "      <td>NaN</td>\n",
       "      <td>0.0</td>\n",
       "      <td>0.0</td>\n",
       "      <td>NaN</td>\n",
       "      <td>NaN</td>\n",
       "    </tr>\n",
       "  </tbody>\n",
       "</table>\n",
       "<p>3 rows × 162 columns</p>\n",
       "</div>"
      ],
      "text/plain": [
       "            code                                                url  \\\n",
       "0  0000000003087  http://world-fr.openfoodfacts.org/produit/0000...   \n",
       "1  0000000004530  http://world-fr.openfoodfacts.org/produit/0000...   \n",
       "2  0000000004559  http://world-fr.openfoodfacts.org/produit/0000...   \n",
       "\n",
       "                      creator   created_t      created_datetime  \\\n",
       "0  openfoodfacts-contributors  1474103866  2016-09-17T09:17:46Z   \n",
       "1             usda-ndb-import  1489069957  2017-03-09T14:32:37Z   \n",
       "2             usda-ndb-import  1489069957  2017-03-09T14:32:37Z   \n",
       "\n",
       "  last_modified_t last_modified_datetime                    product_name  \\\n",
       "0      1474103893   2016-09-17T09:18:13Z              Farine de blé noir   \n",
       "1      1489069957   2017-03-09T14:32:37Z  Banana Chips Sweetened (Whole)   \n",
       "2      1489069957   2017-03-09T14:32:37Z                         Peanuts   \n",
       "\n",
       "  generic_name quantity         ...         ph_100g  \\\n",
       "0          NaN      1kg         ...             NaN   \n",
       "1          NaN      NaN         ...             NaN   \n",
       "2          NaN      NaN         ...             NaN   \n",
       "\n",
       "  fruits-vegetables-nuts_100g collagen-meat-protein-ratio_100g cocoa_100g  \\\n",
       "0                         NaN                              NaN        NaN   \n",
       "1                         NaN                              NaN        NaN   \n",
       "2                         NaN                              NaN        NaN   \n",
       "\n",
       "  chlorophyl_100g carbon-footprint_100g nutrition-score-fr_100g  \\\n",
       "0             NaN                   NaN                     NaN   \n",
       "1             NaN                   NaN                    14.0   \n",
       "2             NaN                   NaN                     0.0   \n",
       "\n",
       "  nutrition-score-uk_100g glycemic-index_100g water-hardness_100g  \n",
       "0                     NaN                 NaN                 NaN  \n",
       "1                    14.0                 NaN                 NaN  \n",
       "2                     0.0                 NaN                 NaN  \n",
       "\n",
       "[3 rows x 162 columns]"
      ]
     },
     "execution_count": 18,
     "metadata": {},
     "output_type": "execute_result"
    }
   ],
   "source": [
    "# some visual inspections\n",
    "open_food_fct.head(3)"
   ]
  },
  {
   "cell_type": "code",
   "execution_count": 19,
   "metadata": {},
   "outputs": [
    {
     "data": {
      "text/html": [
       "<div>\n",
       "<style scoped>\n",
       "    .dataframe tbody tr th:only-of-type {\n",
       "        vertical-align: middle;\n",
       "    }\n",
       "\n",
       "    .dataframe tbody tr th {\n",
       "        vertical-align: top;\n",
       "    }\n",
       "\n",
       "    .dataframe thead th {\n",
       "        text-align: right;\n",
       "    }\n",
       "</style>\n",
       "<table border=\"1\" class=\"dataframe\">\n",
       "  <thead>\n",
       "    <tr style=\"text-align: right;\">\n",
       "      <th></th>\n",
       "      <th>code</th>\n",
       "      <th>url</th>\n",
       "      <th>creator</th>\n",
       "      <th>created_t</th>\n",
       "      <th>created_datetime</th>\n",
       "      <th>last_modified_t</th>\n",
       "      <th>last_modified_datetime</th>\n",
       "      <th>product_name</th>\n",
       "      <th>generic_name</th>\n",
       "      <th>quantity</th>\n",
       "      <th>...</th>\n",
       "      <th>ph_100g</th>\n",
       "      <th>fruits-vegetables-nuts_100g</th>\n",
       "      <th>collagen-meat-protein-ratio_100g</th>\n",
       "      <th>cocoa_100g</th>\n",
       "      <th>chlorophyl_100g</th>\n",
       "      <th>carbon-footprint_100g</th>\n",
       "      <th>nutrition-score-fr_100g</th>\n",
       "      <th>nutrition-score-uk_100g</th>\n",
       "      <th>glycemic-index_100g</th>\n",
       "      <th>water-hardness_100g</th>\n",
       "    </tr>\n",
       "  </thead>\n",
       "  <tbody>\n",
       "    <tr>\n",
       "      <th>65988</th>\n",
       "      <td>0055415485751</td>\n",
       "      <td>http://world-fr.openfoodfacts.org/produit/0055...</td>\n",
       "      <td>usda-ndb-import</td>\n",
       "      <td>1489133724</td>\n",
       "      <td>2017-03-10T08:15:24Z</td>\n",
       "      <td>1489133724</td>\n",
       "      <td>2017-03-10T08:15:24Z</td>\n",
       "      <td>Grand Truffles</td>\n",
       "      <td>NaN</td>\n",
       "      <td>NaN</td>\n",
       "      <td>...</td>\n",
       "      <td>NaN</td>\n",
       "      <td>NaN</td>\n",
       "      <td>NaN</td>\n",
       "      <td>NaN</td>\n",
       "      <td>NaN</td>\n",
       "      <td>NaN</td>\n",
       "      <td>26.0</td>\n",
       "      <td>26.0</td>\n",
       "      <td>NaN</td>\n",
       "      <td>NaN</td>\n",
       "    </tr>\n",
       "    <tr>\n",
       "      <th>241326</th>\n",
       "      <td>3564700152829</td>\n",
       "      <td>http://world-fr.openfoodfacts.org/produit/3564...</td>\n",
       "      <td>jteplitxky</td>\n",
       "      <td>1368638849</td>\n",
       "      <td>2013-05-15T17:27:29Z</td>\n",
       "      <td>1485288348</td>\n",
       "      <td>2017-01-24T20:05:48Z</td>\n",
       "      <td>Déli'light aux Fruits (0 % MG, 0 % sucres ajou...</td>\n",
       "      <td>Yaourt maigre à 0 % MG avec édulcorants aux fr...</td>\n",
       "      <td>2 kg (16 pots) - [2 x (8 x 125 g)]</td>\n",
       "      <td>...</td>\n",
       "      <td>NaN</td>\n",
       "      <td>NaN</td>\n",
       "      <td>NaN</td>\n",
       "      <td>NaN</td>\n",
       "      <td>NaN</td>\n",
       "      <td>NaN</td>\n",
       "      <td>-2.0</td>\n",
       "      <td>-2.0</td>\n",
       "      <td>NaN</td>\n",
       "      <td>NaN</td>\n",
       "    </tr>\n",
       "    <tr>\n",
       "      <th>95618</th>\n",
       "      <td>0077975088722</td>\n",
       "      <td>http://world-fr.openfoodfacts.org/produit/0077...</td>\n",
       "      <td>usda-ndb-import</td>\n",
       "      <td>1489071721</td>\n",
       "      <td>2017-03-09T15:02:01Z</td>\n",
       "      <td>1489071721</td>\n",
       "      <td>2017-03-09T15:02:01Z</td>\n",
       "      <td>Eatsmart, Sea Salt Garden Veggie</td>\n",
       "      <td>NaN</td>\n",
       "      <td>NaN</td>\n",
       "      <td>...</td>\n",
       "      <td>NaN</td>\n",
       "      <td>NaN</td>\n",
       "      <td>NaN</td>\n",
       "      <td>NaN</td>\n",
       "      <td>NaN</td>\n",
       "      <td>NaN</td>\n",
       "      <td>11.0</td>\n",
       "      <td>11.0</td>\n",
       "      <td>NaN</td>\n",
       "      <td>NaN</td>\n",
       "    </tr>\n",
       "  </tbody>\n",
       "</table>\n",
       "<p>3 rows × 162 columns</p>\n",
       "</div>"
      ],
      "text/plain": [
       "                 code                                                url  \\\n",
       "65988   0055415485751  http://world-fr.openfoodfacts.org/produit/0055...   \n",
       "241326  3564700152829  http://world-fr.openfoodfacts.org/produit/3564...   \n",
       "95618   0077975088722  http://world-fr.openfoodfacts.org/produit/0077...   \n",
       "\n",
       "                creator   created_t      created_datetime last_modified_t  \\\n",
       "65988   usda-ndb-import  1489133724  2017-03-10T08:15:24Z      1489133724   \n",
       "241326       jteplitxky  1368638849  2013-05-15T17:27:29Z      1485288348   \n",
       "95618   usda-ndb-import  1489071721  2017-03-09T15:02:01Z      1489071721   \n",
       "\n",
       "       last_modified_datetime  \\\n",
       "65988    2017-03-10T08:15:24Z   \n",
       "241326   2017-01-24T20:05:48Z   \n",
       "95618    2017-03-09T15:02:01Z   \n",
       "\n",
       "                                             product_name  \\\n",
       "65988                                      Grand Truffles   \n",
       "241326  Déli'light aux Fruits (0 % MG, 0 % sucres ajou...   \n",
       "95618                    Eatsmart, Sea Salt Garden Veggie   \n",
       "\n",
       "                                             generic_name  \\\n",
       "65988                                                 NaN   \n",
       "241326  Yaourt maigre à 0 % MG avec édulcorants aux fr...   \n",
       "95618                                                 NaN   \n",
       "\n",
       "                                   quantity         ...         ph_100g  \\\n",
       "65988                                   NaN         ...             NaN   \n",
       "241326  2 kg (16 pots) - [2 x (8 x 125 g)]          ...             NaN   \n",
       "95618                                   NaN         ...             NaN   \n",
       "\n",
       "       fruits-vegetables-nuts_100g collagen-meat-protein-ratio_100g  \\\n",
       "65988                          NaN                              NaN   \n",
       "241326                         NaN                              NaN   \n",
       "95618                          NaN                              NaN   \n",
       "\n",
       "       cocoa_100g chlorophyl_100g carbon-footprint_100g  \\\n",
       "65988         NaN             NaN                   NaN   \n",
       "241326        NaN             NaN                   NaN   \n",
       "95618         NaN             NaN                   NaN   \n",
       "\n",
       "       nutrition-score-fr_100g nutrition-score-uk_100g glycemic-index_100g  \\\n",
       "65988                     26.0                    26.0                 NaN   \n",
       "241326                    -2.0                    -2.0                 NaN   \n",
       "95618                     11.0                    11.0                 NaN   \n",
       "\n",
       "       water-hardness_100g  \n",
       "65988                  NaN  \n",
       "241326                 NaN  \n",
       "95618                  NaN  \n",
       "\n",
       "[3 rows x 162 columns]"
      ]
     },
     "execution_count": 19,
     "metadata": {},
     "output_type": "execute_result"
    }
   ],
   "source": [
    "open_food_fct.sample(3)"
   ]
  },
  {
   "cell_type": "markdown",
   "metadata": {},
   "source": [
    "#### Comments:\n",
    "- there are way too many columns (162) to work on \n",
    "    * First step will be to select a first batch of columns on which we'll do the cleaning\n",
    "- let's focus on the goal of Lamarmite: producing healthy recipes\n",
    "- So first ideas on healthy food based on article of Hercberg\n",
    "    * vegetables and fruit\n",
    "    * fish products\n",
    "    * lower fat, sugar and salt proportions\n",
    "    * vitamines and minerals\n",
    "    * lower alcohol\n",
    "    * lower cholesterol\n",
    "    \n",
    "- Following link is interesting to understand the nutrition_grade:\n",
    "http://fr.openfoodfacts.org/score-nutritionnel-experimental-france\n"
   ]
  },
  {
   "cell_type": "raw",
   "metadata": {},
   "source": [
    "# check page information through url\n",
    "open_food_fct.url[3]"
   ]
  },
  {
   "cell_type": "code",
   "execution_count": 20,
   "metadata": {},
   "outputs": [
    {
     "data": {
      "text/plain": [
       "'http://world-fr.openfoodfacts.org/produit/7730124384115/dulce-de-leche-los-nietitos'"
      ]
     },
     "execution_count": 20,
     "metadata": {},
     "output_type": "execute_result"
    }
   ],
   "source": [
    "open_food_fct.url[300000]"
   ]
  },
  {
   "cell_type": "markdown",
   "metadata": {},
   "source": [
    "> There a 4 main categories in the dataset:\n",
    "> - **General information on the product datasheet**\n",
    "> - **Collection of several tags**\n",
    "> - **Ingredients and additives contained in products**\n",
    "> - **Nutritional informations**\n",
    "\n",
    "\n",
    "\n",
    "> Looking at the final goal of Lamarmite, we'll start by with features of the last category: **Nutritional informations**\n",
    "\n"
   ]
  },
  {
   "cell_type": "code",
   "execution_count": 21,
   "metadata": {},
   "outputs": [],
   "source": [
    "info  = ['code','product_name','generic_name','energy_100g','fat_100g',\n",
    "         'saturated-fat_100g','trans-fat_100g','carbohydrates_100g','sugars_100g','fiber_100g','proteins_100g',\n",
    "         'salt_100g','sodium_100g','vitamin-a_100g','vitamin-d_100g','vitamin-e_100g','vitamin-k_100g',\n",
    "         'vitamin-c_100g','vitamin-b1_100g','vitamin-b2_100g','vitamin-pp_100g','vitamin-b6_100g','vitamin-b9_100g',\n",
    "         'vitamin-b12_100g','calcium_100g','iron_100g','magnesium_100g','potassium_100g','phosphorus_100g','zinc_100g','lactose_100g',\n",
    "         'omega-3-fat_100g','omega-6-fat_100g','omega-9-fat_100g','cholesterol_100g','alcohol_100g','caffeine_100g',\n",
    "         'fruits-vegetables-nuts_100g','nutrition_grade_fr','nutrition-score-fr_100g','nutrition-score-uk_100g']       "
   ]
  },
  {
   "cell_type": "code",
   "execution_count": 22,
   "metadata": {},
   "outputs": [],
   "source": [
    "open_food_fct_info = open_food_fct[info]"
   ]
  },
  {
   "cell_type": "code",
   "execution_count": 23,
   "metadata": {},
   "outputs": [
    {
     "data": {
      "text/plain": [
       "(320772, 41)"
      ]
     },
     "execution_count": 23,
     "metadata": {},
     "output_type": "execute_result"
    }
   ],
   "source": [
    "open_food_fct_info.shape"
   ]
  },
  {
   "cell_type": "code",
   "execution_count": 24,
   "metadata": {},
   "outputs": [
    {
     "data": {
      "text/html": [
       "<div>\n",
       "<style scoped>\n",
       "    .dataframe tbody tr th:only-of-type {\n",
       "        vertical-align: middle;\n",
       "    }\n",
       "\n",
       "    .dataframe tbody tr th {\n",
       "        vertical-align: top;\n",
       "    }\n",
       "\n",
       "    .dataframe thead th {\n",
       "        text-align: right;\n",
       "    }\n",
       "</style>\n",
       "<table border=\"1\" class=\"dataframe\">\n",
       "  <thead>\n",
       "    <tr style=\"text-align: right;\">\n",
       "      <th></th>\n",
       "      <th>code</th>\n",
       "      <th>product_name</th>\n",
       "      <th>generic_name</th>\n",
       "      <th>energy_100g</th>\n",
       "      <th>fat_100g</th>\n",
       "      <th>saturated-fat_100g</th>\n",
       "      <th>trans-fat_100g</th>\n",
       "      <th>carbohydrates_100g</th>\n",
       "      <th>sugars_100g</th>\n",
       "      <th>fiber_100g</th>\n",
       "      <th>...</th>\n",
       "      <th>omega-3-fat_100g</th>\n",
       "      <th>omega-6-fat_100g</th>\n",
       "      <th>omega-9-fat_100g</th>\n",
       "      <th>cholesterol_100g</th>\n",
       "      <th>alcohol_100g</th>\n",
       "      <th>caffeine_100g</th>\n",
       "      <th>fruits-vegetables-nuts_100g</th>\n",
       "      <th>nutrition_grade_fr</th>\n",
       "      <th>nutrition-score-fr_100g</th>\n",
       "      <th>nutrition-score-uk_100g</th>\n",
       "    </tr>\n",
       "  </thead>\n",
       "  <tbody>\n",
       "    <tr>\n",
       "      <th>146368</th>\n",
       "      <td>0790429230569</td>\n",
       "      <td>Gummy Fish</td>\n",
       "      <td>NaN</td>\n",
       "      <td>1502.0</td>\n",
       "      <td>0.00</td>\n",
       "      <td>0.00</td>\n",
       "      <td>0.0</td>\n",
       "      <td>97.44</td>\n",
       "      <td>71.79</td>\n",
       "      <td>0.0</td>\n",
       "      <td>...</td>\n",
       "      <td>NaN</td>\n",
       "      <td>NaN</td>\n",
       "      <td>NaN</td>\n",
       "      <td>0.000</td>\n",
       "      <td>NaN</td>\n",
       "      <td>NaN</td>\n",
       "      <td>NaN</td>\n",
       "      <td>d</td>\n",
       "      <td>14.0</td>\n",
       "      <td>14.0</td>\n",
       "    </tr>\n",
       "    <tr>\n",
       "      <th>88256</th>\n",
       "      <td>0075201007035</td>\n",
       "      <td>Cousin Willie's, Simply Better, Mauve Popcorn,...</td>\n",
       "      <td>NaN</td>\n",
       "      <td>2243.0</td>\n",
       "      <td>28.57</td>\n",
       "      <td>1.79</td>\n",
       "      <td>0.0</td>\n",
       "      <td>57.14</td>\n",
       "      <td>0.00</td>\n",
       "      <td>10.7</td>\n",
       "      <td>...</td>\n",
       "      <td>NaN</td>\n",
       "      <td>NaN</td>\n",
       "      <td>NaN</td>\n",
       "      <td>0.000</td>\n",
       "      <td>NaN</td>\n",
       "      <td>NaN</td>\n",
       "      <td>NaN</td>\n",
       "      <td>d</td>\n",
       "      <td>12.0</td>\n",
       "      <td>12.0</td>\n",
       "    </tr>\n",
       "    <tr>\n",
       "      <th>88356</th>\n",
       "      <td>0075278995006</td>\n",
       "      <td>Popcorn Chicken</td>\n",
       "      <td>NaN</td>\n",
       "      <td>946.0</td>\n",
       "      <td>10.71</td>\n",
       "      <td>1.79</td>\n",
       "      <td>0.0</td>\n",
       "      <td>15.48</td>\n",
       "      <td>0.00</td>\n",
       "      <td>0.0</td>\n",
       "      <td>...</td>\n",
       "      <td>NaN</td>\n",
       "      <td>NaN</td>\n",
       "      <td>NaN</td>\n",
       "      <td>0.042</td>\n",
       "      <td>NaN</td>\n",
       "      <td>NaN</td>\n",
       "      <td>NaN</td>\n",
       "      <td>c</td>\n",
       "      <td>3.0</td>\n",
       "      <td>3.0</td>\n",
       "    </tr>\n",
       "    <tr>\n",
       "      <th>79588</th>\n",
       "      <td>0072220100167</td>\n",
       "      <td>Bagel Boys Original Premium Bagels</td>\n",
       "      <td>NaN</td>\n",
       "      <td>1134.0</td>\n",
       "      <td>2.35</td>\n",
       "      <td>0.59</td>\n",
       "      <td>0.0</td>\n",
       "      <td>51.76</td>\n",
       "      <td>4.71</td>\n",
       "      <td>2.4</td>\n",
       "      <td>...</td>\n",
       "      <td>NaN</td>\n",
       "      <td>NaN</td>\n",
       "      <td>NaN</td>\n",
       "      <td>0.000</td>\n",
       "      <td>NaN</td>\n",
       "      <td>NaN</td>\n",
       "      <td>NaN</td>\n",
       "      <td>b</td>\n",
       "      <td>0.0</td>\n",
       "      <td>0.0</td>\n",
       "    </tr>\n",
       "    <tr>\n",
       "      <th>32244</th>\n",
       "      <td>0036632028068</td>\n",
       "      <td>Activia, Greek Nonfat Yogurt, Blueberry</td>\n",
       "      <td>NaN</td>\n",
       "      <td>364.0</td>\n",
       "      <td>0.00</td>\n",
       "      <td>0.00</td>\n",
       "      <td>0.0</td>\n",
       "      <td>14.00</td>\n",
       "      <td>12.67</td>\n",
       "      <td>0.7</td>\n",
       "      <td>...</td>\n",
       "      <td>NaN</td>\n",
       "      <td>NaN</td>\n",
       "      <td>NaN</td>\n",
       "      <td>0.003</td>\n",
       "      <td>NaN</td>\n",
       "      <td>NaN</td>\n",
       "      <td>NaN</td>\n",
       "      <td>a</td>\n",
       "      <td>-1.0</td>\n",
       "      <td>-1.0</td>\n",
       "    </tr>\n",
       "  </tbody>\n",
       "</table>\n",
       "<p>5 rows × 41 columns</p>\n",
       "</div>"
      ],
      "text/plain": [
       "                 code                                       product_name  \\\n",
       "146368  0790429230569                                         Gummy Fish   \n",
       "88256   0075201007035  Cousin Willie's, Simply Better, Mauve Popcorn,...   \n",
       "88356   0075278995006                                    Popcorn Chicken   \n",
       "79588   0072220100167                 Bagel Boys Original Premium Bagels   \n",
       "32244   0036632028068            Activia, Greek Nonfat Yogurt, Blueberry   \n",
       "\n",
       "       generic_name  energy_100g  fat_100g  saturated-fat_100g  \\\n",
       "146368          NaN       1502.0      0.00                0.00   \n",
       "88256           NaN       2243.0     28.57                1.79   \n",
       "88356           NaN        946.0     10.71                1.79   \n",
       "79588           NaN       1134.0      2.35                0.59   \n",
       "32244           NaN        364.0      0.00                0.00   \n",
       "\n",
       "        trans-fat_100g  carbohydrates_100g  sugars_100g  fiber_100g  \\\n",
       "146368             0.0               97.44        71.79         0.0   \n",
       "88256              0.0               57.14         0.00        10.7   \n",
       "88356              0.0               15.48         0.00         0.0   \n",
       "79588              0.0               51.76         4.71         2.4   \n",
       "32244              0.0               14.00        12.67         0.7   \n",
       "\n",
       "                 ...             omega-3-fat_100g  omega-6-fat_100g  \\\n",
       "146368           ...                          NaN               NaN   \n",
       "88256            ...                          NaN               NaN   \n",
       "88356            ...                          NaN               NaN   \n",
       "79588            ...                          NaN               NaN   \n",
       "32244            ...                          NaN               NaN   \n",
       "\n",
       "        omega-9-fat_100g  cholesterol_100g  alcohol_100g  caffeine_100g  \\\n",
       "146368               NaN             0.000           NaN            NaN   \n",
       "88256                NaN             0.000           NaN            NaN   \n",
       "88356                NaN             0.042           NaN            NaN   \n",
       "79588                NaN             0.000           NaN            NaN   \n",
       "32244                NaN             0.003           NaN            NaN   \n",
       "\n",
       "        fruits-vegetables-nuts_100g  nutrition_grade_fr  \\\n",
       "146368                          NaN                   d   \n",
       "88256                           NaN                   d   \n",
       "88356                           NaN                   c   \n",
       "79588                           NaN                   b   \n",
       "32244                           NaN                   a   \n",
       "\n",
       "        nutrition-score-fr_100g  nutrition-score-uk_100g  \n",
       "146368                     14.0                     14.0  \n",
       "88256                      12.0                     12.0  \n",
       "88356                       3.0                      3.0  \n",
       "79588                       0.0                      0.0  \n",
       "32244                      -1.0                     -1.0  \n",
       "\n",
       "[5 rows x 41 columns]"
      ]
     },
     "execution_count": 24,
     "metadata": {},
     "output_type": "execute_result"
    }
   ],
   "source": [
    "open_food_fct_info.sample(5)"
   ]
  },
  {
   "cell_type": "code",
   "execution_count": 27,
   "metadata": {},
   "outputs": [
    {
     "name": "stdout",
     "output_type": "stream",
     "text": [
      "<class 'pandas.core.frame.DataFrame'>\n",
      "RangeIndex: 320772 entries, 0 to 320771\n",
      "Data columns (total 41 columns):\n",
      "code                           320749 non-null object\n",
      "product_name                   303010 non-null object\n",
      "generic_name                   52795 non-null object\n",
      "energy_100g                    261113 non-null float64\n",
      "fat_100g                       243891 non-null float64\n",
      "saturated-fat_100g             229554 non-null float64\n",
      "trans-fat_100g                 143298 non-null float64\n",
      "carbohydrates_100g             243588 non-null float64\n",
      "sugars_100g                    244971 non-null float64\n",
      "fiber_100g                     200886 non-null float64\n",
      "proteins_100g                  259922 non-null float64\n",
      "salt_100g                      255510 non-null float64\n",
      "sodium_100g                    255463 non-null float64\n",
      "vitamin-a_100g                 137554 non-null float64\n",
      "vitamin-d_100g                 7057 non-null float64\n",
      "vitamin-e_100g                 1340 non-null float64\n",
      "vitamin-k_100g                 918 non-null float64\n",
      "vitamin-c_100g                 140867 non-null float64\n",
      "vitamin-b1_100g                11154 non-null float64\n",
      "vitamin-b2_100g                10815 non-null float64\n",
      "vitamin-pp_100g                11729 non-null float64\n",
      "vitamin-b6_100g                6784 non-null float64\n",
      "vitamin-b9_100g                5240 non-null float64\n",
      "vitamin-b12_100g               5300 non-null float64\n",
      "calcium_100g                   141050 non-null float64\n",
      "iron_100g                      140462 non-null float64\n",
      "magnesium_100g                 6253 non-null float64\n",
      "potassium_100g                 24748 non-null float64\n",
      "phosphorus_100g                5845 non-null float64\n",
      "zinc_100g                      3929 non-null float64\n",
      "lactose_100g                   262 non-null float64\n",
      "omega-3-fat_100g               841 non-null float64\n",
      "omega-6-fat_100g               188 non-null float64\n",
      "omega-9-fat_100g               21 non-null float64\n",
      "cholesterol_100g               144090 non-null float64\n",
      "alcohol_100g                   4133 non-null float64\n",
      "caffeine_100g                  78 non-null float64\n",
      "fruits-vegetables-nuts_100g    3036 non-null float64\n",
      "nutrition_grade_fr             221210 non-null object\n",
      "nutrition-score-fr_100g        221210 non-null float64\n",
      "nutrition-score-uk_100g        221210 non-null float64\n",
      "dtypes: float64(37), object(4)\n",
      "memory usage: 100.3+ MB\n"
     ]
    }
   ],
   "source": [
    "open_food_fct_info.info()"
   ]
  },
  {
   "cell_type": "code",
   "execution_count": 28,
   "metadata": {},
   "outputs": [
    {
     "data": {
      "text/plain": [
       "code                               23\n",
       "product_name                    17762\n",
       "generic_name                   267977\n",
       "energy_100g                     59659\n",
       "fat_100g                        76881\n",
       "saturated-fat_100g              91218\n",
       "trans-fat_100g                 177474\n",
       "carbohydrates_100g              77184\n",
       "sugars_100g                     75801\n",
       "fiber_100g                     119886\n",
       "proteins_100g                   60850\n",
       "salt_100g                       65262\n",
       "sodium_100g                     65309\n",
       "vitamin-a_100g                 183218\n",
       "vitamin-d_100g                 313715\n",
       "vitamin-e_100g                 319432\n",
       "vitamin-k_100g                 319854\n",
       "vitamin-c_100g                 179905\n",
       "vitamin-b1_100g                309618\n",
       "vitamin-b2_100g                309957\n",
       "vitamin-pp_100g                309043\n",
       "vitamin-b6_100g                313988\n",
       "vitamin-b9_100g                315532\n",
       "vitamin-b12_100g               315472\n",
       "calcium_100g                   179722\n",
       "iron_100g                      180310\n",
       "magnesium_100g                 314519\n",
       "potassium_100g                 296024\n",
       "phosphorus_100g                314927\n",
       "zinc_100g                      316843\n",
       "lactose_100g                   320510\n",
       "omega-3-fat_100g               319931\n",
       "omega-6-fat_100g               320584\n",
       "omega-9-fat_100g               320751\n",
       "cholesterol_100g               176682\n",
       "alcohol_100g                   316639\n",
       "caffeine_100g                  320694\n",
       "fruits-vegetables-nuts_100g    317736\n",
       "nutrition_grade_fr              99562\n",
       "nutrition-score-fr_100g         99562\n",
       "nutrition-score-uk_100g         99562\n",
       "dtype: int64"
      ]
     },
     "execution_count": 28,
     "metadata": {},
     "output_type": "execute_result"
    }
   ],
   "source": [
    "# More in depth analysis of null values\n",
    "open_food_fct_info.isnull().sum()"
   ]
  },
  {
   "cell_type": "markdown",
   "metadata": {},
   "source": [
    "##### Are there some duplicated lines (basically on \"code\")?"
   ]
  },
  {
   "cell_type": "code",
   "execution_count": 29,
   "metadata": {},
   "outputs": [
    {
     "data": {
      "text/plain": [
       "0"
      ]
     },
     "execution_count": 29,
     "metadata": {},
     "output_type": "execute_result"
    }
   ],
   "source": [
    "open_food_fct_info.duplicated().sum()"
   ]
  },
  {
   "cell_type": "code",
   "execution_count": 30,
   "metadata": {},
   "outputs": [
    {
     "data": {
      "text/plain": [
       "22"
      ]
     },
     "execution_count": 30,
     "metadata": {},
     "output_type": "execute_result"
    }
   ],
   "source": [
    "# duplicated nutriments \"codes\"\n",
    "open_food_fct_info[\"code\"].duplicated().sum()"
   ]
  },
  {
   "cell_type": "code",
   "execution_count": 31,
   "metadata": {},
   "outputs": [
    {
     "data": {
      "text/plain": [
       "189250    NaN\n",
       "189109    NaN\n",
       "189406    NaN\n",
       "189103    NaN\n",
       "189417    NaN\n",
       "Name: code, dtype: object"
      ]
     },
     "execution_count": 31,
     "metadata": {},
     "output_type": "execute_result"
    }
   ],
   "source": [
    "open_food_fct_info[open_food_fct_info[\"code\"].duplicated()].code.sample(5)"
   ]
  },
  {
   "cell_type": "markdown",
   "metadata": {},
   "source": [
    "> There are no duplicated codes, only null-values that will be treated later on"
   ]
  },
  {
   "cell_type": "markdown",
   "metadata": {},
   "source": [
    "#### First observations:\n",
    ">- Total amount of products : 320772\n",
    ">- Some column names mix \"-\" and \"_\" => this could lead to problems for the use of some cleaning functions\n",
    ">- **Missing values** => null values:\n",
    "    * code: 23 null-values => those lines will be deleted\n",
    "    * product_name : has 17762 null-values  \n",
    "        * 5,5% of the products don't have a product_name\n",
    "        * => as the product_name is essential in identifying it, we'll decide to delete those lines\n",
    "    * generic_name : has 267977 nul-values  \n",
    "        * 83.5% of them \n",
    "        * too many to delete or replace by other aggregate value as mean for example => we'll decide to leave this attribute out of the study\n",
    "    * for the attributes ending by \"_100g\" \n",
    "        * except nutrition_score_fr_100g and nutrition_score_uk_100g,\n",
    "        * we'll assume that missing value correspond to the fact that the nutriment isn't present in the product\n",
    "        * So we'll replace the missing values by 0\n",
    "    * replace the missing values from \"nutrition-score-fr_100g \" and \"nutrition-score-uk_100g\" \n",
    "    * replace the missing values from \"nutrition_grade_fr\" by the letter corresponding to to median score (cfr previous point)\n",
    ">\n",
    ">\n",
    ">- **Wrong values**:\n",
    "    * for the nutriments with _100g, remove the values < 0 gr or >100gr\n",
    "    * Delete the lines containing more than 0.8g of Iron, Calcium, Magnesium, Potassium, Zinc or Vitamines \n",
    "    * Double coherence of nutrition_grade vs nutrition_score_fr based on https://fr.openfoodfacts.org/nutriscore\n",
    ">  \n",
    ">\n",
    ">- **Types**: \n",
    "    * nutrition-score_fr_100g and nutrition-score_uk_100g are \"floats\" and should be \"int\"\n",
    "    * nutrition_grade_fr is a String => should be an Ordered Categorical variable\n",
    "    * additives_n and ingredients_from_palm_oil_n : have float type and should be int"
   ]
  },
  {
   "cell_type": "markdown",
   "metadata": {},
   "source": [
    "<a id='cleaning'></a>\n",
    "## Cleaning\n",
    "<a href=\"#table\">Back to table of content</a>\n"
   ]
  },
  {
   "cell_type": "markdown",
   "metadata": {},
   "source": [
    "### Starting by making a copy"
   ]
  },
  {
   "cell_type": "code",
   "execution_count": 34,
   "metadata": {},
   "outputs": [],
   "source": [
    "# to avoid modifying orginal dataset\n",
    "nutri_data = open_food_fct.copy()"
   ]
  },
  {
   "cell_type": "markdown",
   "metadata": {},
   "source": [
    "#### 1. Keep important columns "
   ]
  },
  {
   "cell_type": "markdown",
   "metadata": {},
   "source": [
    "##### Define"
   ]
  },
  {
   "cell_type": "markdown",
   "metadata": {},
   "source": [
    "Regarding to the comments of the assessement phase, keep relevant columns"
   ]
  },
  {
   "cell_type": "markdown",
   "metadata": {},
   "source": [
    "##### Code"
   ]
  },
  {
   "cell_type": "code",
   "execution_count": 35,
   "metadata": {},
   "outputs": [],
   "source": [
    "study_columns  = ['code','product_name','energy_100g','fat_100g', 'saturated-fat_100g','trans-fat_100g','carbohydrates_100g','sugars_100g',\n",
    "         'fiber_100g','proteins_100g','salt_100g','sodium_100g','vitamin-a_100g','vitamin-d_100g','vitamin-e_100g',\n",
    "         'vitamin-k_100g','vitamin-c_100g','vitamin-b1_100g','vitamin-b2_100g','vitamin-pp_100g','vitamin-b6_100g',\n",
    "         'vitamin-b9_100g','vitamin-b12_100g','calcium_100g','iron_100g','magnesium_100g','potassium_100g','zinc_100g',\n",
    "         'lactose_100g','omega-3-fat_100g','omega-6-fat_100g','omega-9-fat_100g','cholesterol_100g',\n",
    "         'alcohol_100g','caffeine_100g','fruits-vegetables-nuts_100g','nutrition_grade_fr','nutrition-score-fr_100g',\n",
    "         'nutrition-score-uk_100g']       \n"
   ]
  },
  {
   "cell_type": "code",
   "execution_count": 36,
   "metadata": {},
   "outputs": [],
   "source": [
    "nutri_data = nutri_data[study_columns]"
   ]
  },
  {
   "cell_type": "markdown",
   "metadata": {},
   "source": [
    "##### Test"
   ]
  },
  {
   "cell_type": "code",
   "execution_count": 37,
   "metadata": {},
   "outputs": [
    {
     "data": {
      "text/plain": [
       "(320772, 39)"
      ]
     },
     "execution_count": 37,
     "metadata": {},
     "output_type": "execute_result"
    }
   ],
   "source": [
    "nutri_data.shape"
   ]
  },
  {
   "cell_type": "code",
   "execution_count": 38,
   "metadata": {},
   "outputs": [
    {
     "data": {
      "text/html": [
       "<div>\n",
       "<style scoped>\n",
       "    .dataframe tbody tr th:only-of-type {\n",
       "        vertical-align: middle;\n",
       "    }\n",
       "\n",
       "    .dataframe tbody tr th {\n",
       "        vertical-align: top;\n",
       "    }\n",
       "\n",
       "    .dataframe thead th {\n",
       "        text-align: right;\n",
       "    }\n",
       "</style>\n",
       "<table border=\"1\" class=\"dataframe\">\n",
       "  <thead>\n",
       "    <tr style=\"text-align: right;\">\n",
       "      <th></th>\n",
       "      <th>code</th>\n",
       "      <th>product_name</th>\n",
       "      <th>energy_100g</th>\n",
       "      <th>fat_100g</th>\n",
       "      <th>saturated-fat_100g</th>\n",
       "      <th>trans-fat_100g</th>\n",
       "      <th>carbohydrates_100g</th>\n",
       "      <th>sugars_100g</th>\n",
       "      <th>fiber_100g</th>\n",
       "      <th>proteins_100g</th>\n",
       "      <th>...</th>\n",
       "      <th>omega-3-fat_100g</th>\n",
       "      <th>omega-6-fat_100g</th>\n",
       "      <th>omega-9-fat_100g</th>\n",
       "      <th>cholesterol_100g</th>\n",
       "      <th>alcohol_100g</th>\n",
       "      <th>caffeine_100g</th>\n",
       "      <th>fruits-vegetables-nuts_100g</th>\n",
       "      <th>nutrition_grade_fr</th>\n",
       "      <th>nutrition-score-fr_100g</th>\n",
       "      <th>nutrition-score-uk_100g</th>\n",
       "    </tr>\n",
       "  </thead>\n",
       "  <tbody>\n",
       "    <tr>\n",
       "      <th>299947</th>\n",
       "      <td>7706642005047</td>\n",
       "      <td>Trocillo Sabor Pollo</td>\n",
       "      <td>NaN</td>\n",
       "      <td>NaN</td>\n",
       "      <td>NaN</td>\n",
       "      <td>NaN</td>\n",
       "      <td>NaN</td>\n",
       "      <td>NaN</td>\n",
       "      <td>NaN</td>\n",
       "      <td>NaN</td>\n",
       "      <td>...</td>\n",
       "      <td>NaN</td>\n",
       "      <td>NaN</td>\n",
       "      <td>NaN</td>\n",
       "      <td>NaN</td>\n",
       "      <td>NaN</td>\n",
       "      <td>NaN</td>\n",
       "      <td>NaN</td>\n",
       "      <td>NaN</td>\n",
       "      <td>NaN</td>\n",
       "      <td>NaN</td>\n",
       "    </tr>\n",
       "    <tr>\n",
       "      <th>176158</th>\n",
       "      <td>2000000031521</td>\n",
       "      <td>Pizza boeuf-pepperoni</td>\n",
       "      <td>1054.0</td>\n",
       "      <td>10.0</td>\n",
       "      <td>NaN</td>\n",
       "      <td>NaN</td>\n",
       "      <td>30.0</td>\n",
       "      <td>NaN</td>\n",
       "      <td>2.0</td>\n",
       "      <td>10.0</td>\n",
       "      <td>...</td>\n",
       "      <td>NaN</td>\n",
       "      <td>NaN</td>\n",
       "      <td>NaN</td>\n",
       "      <td>NaN</td>\n",
       "      <td>NaN</td>\n",
       "      <td>NaN</td>\n",
       "      <td>NaN</td>\n",
       "      <td>NaN</td>\n",
       "      <td>NaN</td>\n",
       "      <td>NaN</td>\n",
       "    </tr>\n",
       "    <tr>\n",
       "      <th>172426</th>\n",
       "      <td>0892805005447</td>\n",
       "      <td>Chicken Brine Herbs De Provence Brine Mix</td>\n",
       "      <td>79.0</td>\n",
       "      <td>0.0</td>\n",
       "      <td>0.0</td>\n",
       "      <td>0.0</td>\n",
       "      <td>3.7</td>\n",
       "      <td>3.7</td>\n",
       "      <td>0.0</td>\n",
       "      <td>0.0</td>\n",
       "      <td>...</td>\n",
       "      <td>NaN</td>\n",
       "      <td>NaN</td>\n",
       "      <td>NaN</td>\n",
       "      <td>0.0</td>\n",
       "      <td>NaN</td>\n",
       "      <td>NaN</td>\n",
       "      <td>NaN</td>\n",
       "      <td>c</td>\n",
       "      <td>10.0</td>\n",
       "      <td>10.0</td>\n",
       "    </tr>\n",
       "  </tbody>\n",
       "</table>\n",
       "<p>3 rows × 39 columns</p>\n",
       "</div>"
      ],
      "text/plain": [
       "                 code                               product_name  energy_100g  \\\n",
       "299947  7706642005047                       Trocillo Sabor Pollo          NaN   \n",
       "176158  2000000031521                      Pizza boeuf-pepperoni       1054.0   \n",
       "172426  0892805005447  Chicken Brine Herbs De Provence Brine Mix         79.0   \n",
       "\n",
       "        fat_100g  saturated-fat_100g  trans-fat_100g  carbohydrates_100g  \\\n",
       "299947       NaN                 NaN             NaN                 NaN   \n",
       "176158      10.0                 NaN             NaN                30.0   \n",
       "172426       0.0                 0.0             0.0                 3.7   \n",
       "\n",
       "        sugars_100g  fiber_100g  proteins_100g           ...             \\\n",
       "299947          NaN         NaN            NaN           ...              \n",
       "176158          NaN         2.0           10.0           ...              \n",
       "172426          3.7         0.0            0.0           ...              \n",
       "\n",
       "        omega-3-fat_100g  omega-6-fat_100g  omega-9-fat_100g  \\\n",
       "299947               NaN               NaN               NaN   \n",
       "176158               NaN               NaN               NaN   \n",
       "172426               NaN               NaN               NaN   \n",
       "\n",
       "        cholesterol_100g  alcohol_100g  caffeine_100g  \\\n",
       "299947               NaN           NaN            NaN   \n",
       "176158               NaN           NaN            NaN   \n",
       "172426               0.0           NaN            NaN   \n",
       "\n",
       "        fruits-vegetables-nuts_100g  nutrition_grade_fr  \\\n",
       "299947                          NaN                 NaN   \n",
       "176158                          NaN                 NaN   \n",
       "172426                          NaN                   c   \n",
       "\n",
       "        nutrition-score-fr_100g  nutrition-score-uk_100g  \n",
       "299947                      NaN                      NaN  \n",
       "176158                      NaN                      NaN  \n",
       "172426                     10.0                     10.0  \n",
       "\n",
       "[3 rows x 39 columns]"
      ]
     },
     "execution_count": 38,
     "metadata": {},
     "output_type": "execute_result"
    }
   ],
   "source": [
    "nutri_data.sample(3)"
   ]
  },
  {
   "cell_type": "markdown",
   "metadata": {},
   "source": [
    "#### 2. Replace \"-\" in column names by \"_\""
   ]
  },
  {
   "cell_type": "markdown",
   "metadata": {},
   "source": [
    "#### Define"
   ]
  },
  {
   "cell_type": "markdown",
   "metadata": {},
   "source": [
    "To have correct working of pandas functions, it's better to have column name with \"_\" instead of \"-\""
   ]
  },
  {
   "cell_type": "markdown",
   "metadata": {},
   "source": [
    "#### Code"
   ]
  },
  {
   "cell_type": "code",
   "execution_count": 39,
   "metadata": {},
   "outputs": [],
   "source": [
    "nutri_data.columns = nutri_data.columns.str.replace('-','_')"
   ]
  },
  {
   "cell_type": "markdown",
   "metadata": {},
   "source": [
    "#### Test"
   ]
  },
  {
   "cell_type": "code",
   "execution_count": 40,
   "metadata": {},
   "outputs": [
    {
     "data": {
      "text/plain": [
       "Index(['code', 'product_name', 'energy_100g', 'fat_100g', 'saturated_fat_100g',\n",
       "       'trans_fat_100g', 'carbohydrates_100g', 'sugars_100g', 'fiber_100g',\n",
       "       'proteins_100g', 'salt_100g', 'sodium_100g', 'vitamin_a_100g',\n",
       "       'vitamin_d_100g', 'vitamin_e_100g', 'vitamin_k_100g', 'vitamin_c_100g',\n",
       "       'vitamin_b1_100g', 'vitamin_b2_100g', 'vitamin_pp_100g',\n",
       "       'vitamin_b6_100g', 'vitamin_b9_100g', 'vitamin_b12_100g',\n",
       "       'calcium_100g', 'iron_100g', 'magnesium_100g', 'potassium_100g',\n",
       "       'zinc_100g', 'lactose_100g', 'omega_3_fat_100g', 'omega_6_fat_100g',\n",
       "       'omega_9_fat_100g', 'cholesterol_100g', 'alcohol_100g', 'caffeine_100g',\n",
       "       'fruits_vegetables_nuts_100g', 'nutrition_grade_fr',\n",
       "       'nutrition_score_fr_100g', 'nutrition_score_uk_100g'],\n",
       "      dtype='object')"
      ]
     },
     "execution_count": 40,
     "metadata": {},
     "output_type": "execute_result"
    }
   ],
   "source": [
    "nutri_data.columns"
   ]
  },
  {
   "cell_type": "markdown",
   "metadata": {},
   "source": [
    "#### 3. Missing values for \"code\""
   ]
  },
  {
   "cell_type": "markdown",
   "metadata": {},
   "source": [
    "#### Define"
   ]
  },
  {
   "cell_type": "markdown",
   "metadata": {},
   "source": [
    "Delete the line of the dataframe where \"code\" is null"
   ]
  },
  {
   "cell_type": "markdown",
   "metadata": {},
   "source": [
    "#### Code"
   ]
  },
  {
   "cell_type": "code",
   "execution_count": 41,
   "metadata": {},
   "outputs": [],
   "source": [
    "nutri_data = nutri_data.dropna(subset=['code'])"
   ]
  },
  {
   "cell_type": "markdown",
   "metadata": {},
   "source": [
    "#### Test"
   ]
  },
  {
   "cell_type": "code",
   "execution_count": 42,
   "metadata": {},
   "outputs": [
    {
     "data": {
      "text/plain": [
       "0"
      ]
     },
     "execution_count": 42,
     "metadata": {},
     "output_type": "execute_result"
    }
   ],
   "source": [
    "nutri_data.code.isnull().sum()"
   ]
  },
  {
   "cell_type": "code",
   "execution_count": 43,
   "metadata": {},
   "outputs": [
    {
     "data": {
      "text/plain": [
       "0"
      ]
     },
     "execution_count": 43,
     "metadata": {},
     "output_type": "execute_result"
    }
   ],
   "source": [
    "# doublecheck for duplicates\n",
    "nutri_data[\"code\"].duplicated().sum()"
   ]
  },
  {
   "cell_type": "markdown",
   "metadata": {},
   "source": [
    "#### 4. Missing values for \"product_name \""
   ]
  },
  {
   "cell_type": "markdown",
   "metadata": {},
   "source": [
    "##### Define"
   ]
  },
  {
   "cell_type": "markdown",
   "metadata": {},
   "source": [
    "Delete the lines of the dataframe where \"product_name \" is null"
   ]
  },
  {
   "cell_type": "markdown",
   "metadata": {},
   "source": [
    "##### Code"
   ]
  },
  {
   "cell_type": "code",
   "execution_count": 44,
   "metadata": {},
   "outputs": [],
   "source": [
    "nutri_data = nutri_data.dropna(subset=['product_name'])"
   ]
  },
  {
   "cell_type": "markdown",
   "metadata": {},
   "source": [
    "##### Test"
   ]
  },
  {
   "cell_type": "code",
   "execution_count": 45,
   "metadata": {},
   "outputs": [
    {
     "data": {
      "text/plain": [
       "0"
      ]
     },
     "execution_count": 45,
     "metadata": {},
     "output_type": "execute_result"
    }
   ],
   "source": [
    "nutri_data.product_name.isnull().sum()"
   ]
  },
  {
   "cell_type": "markdown",
   "metadata": {},
   "source": [
    "#### 5. Replace null-values for the terms ending by \"_100g\""
   ]
  },
  {
   "cell_type": "markdown",
   "metadata": {},
   "source": [
    "##### Define"
   ]
  },
  {
   "cell_type": "markdown",
   "metadata": {},
   "source": [
    "Replace the null_values of the terms ending by \"_100g\" with 0"
   ]
  },
  {
   "cell_type": "markdown",
   "metadata": {},
   "source": [
    "##### Code"
   ]
  },
  {
   "cell_type": "code",
   "execution_count": 46,
   "metadata": {},
   "outputs": [],
   "source": [
    "nutri_data_headers = nutri_data.columns.values.tolist()"
   ]
  },
  {
   "cell_type": "code",
   "execution_count": 47,
   "metadata": {},
   "outputs": [],
   "source": [
    "terms_end_100g = [x for x in nutri_data_headers if (x.endswith('_100g') and x not in (['nutrition_score_fr_100g', 'nutrition_score_uk_100g']))]"
   ]
  },
  {
   "cell_type": "code",
   "execution_count": 49,
   "metadata": {},
   "outputs": [],
   "source": [
    "nutri_data[terms_end_100g] = nutri_data[terms_end_100g].fillna(value=0)"
   ]
  },
  {
   "cell_type": "markdown",
   "metadata": {},
   "source": [
    "##### Test"
   ]
  },
  {
   "cell_type": "code",
   "execution_count": 50,
   "metadata": {},
   "outputs": [
    {
     "data": {
      "text/html": [
       "<div>\n",
       "<style scoped>\n",
       "    .dataframe tbody tr th:only-of-type {\n",
       "        vertical-align: middle;\n",
       "    }\n",
       "\n",
       "    .dataframe tbody tr th {\n",
       "        vertical-align: top;\n",
       "    }\n",
       "\n",
       "    .dataframe thead th {\n",
       "        text-align: right;\n",
       "    }\n",
       "</style>\n",
       "<table border=\"1\" class=\"dataframe\">\n",
       "  <thead>\n",
       "    <tr style=\"text-align: right;\">\n",
       "      <th></th>\n",
       "      <th>energy_100g</th>\n",
       "      <th>fat_100g</th>\n",
       "      <th>saturated_fat_100g</th>\n",
       "      <th>trans_fat_100g</th>\n",
       "      <th>carbohydrates_100g</th>\n",
       "      <th>sugars_100g</th>\n",
       "      <th>fiber_100g</th>\n",
       "      <th>proteins_100g</th>\n",
       "      <th>salt_100g</th>\n",
       "      <th>sodium_100g</th>\n",
       "      <th>...</th>\n",
       "      <th>potassium_100g</th>\n",
       "      <th>zinc_100g</th>\n",
       "      <th>lactose_100g</th>\n",
       "      <th>omega_3_fat_100g</th>\n",
       "      <th>omega_6_fat_100g</th>\n",
       "      <th>omega_9_fat_100g</th>\n",
       "      <th>cholesterol_100g</th>\n",
       "      <th>alcohol_100g</th>\n",
       "      <th>caffeine_100g</th>\n",
       "      <th>fruits_vegetables_nuts_100g</th>\n",
       "    </tr>\n",
       "  </thead>\n",
       "  <tbody>\n",
       "    <tr>\n",
       "      <th>69324</th>\n",
       "      <td>1079.0</td>\n",
       "      <td>22.58</td>\n",
       "      <td>4.84</td>\n",
       "      <td>0.0</td>\n",
       "      <td>9.68</td>\n",
       "      <td>6.45</td>\n",
       "      <td>0.0</td>\n",
       "      <td>6.45</td>\n",
       "      <td>2.21234</td>\n",
       "      <td>0.871000</td>\n",
       "      <td>...</td>\n",
       "      <td>0.0</td>\n",
       "      <td>0.0</td>\n",
       "      <td>0.0</td>\n",
       "      <td>0.0</td>\n",
       "      <td>0.0</td>\n",
       "      <td>0.0</td>\n",
       "      <td>0.065</td>\n",
       "      <td>0.0</td>\n",
       "      <td>0.0</td>\n",
       "      <td>0.0</td>\n",
       "    </tr>\n",
       "    <tr>\n",
       "      <th>238950</th>\n",
       "      <td>1186.0</td>\n",
       "      <td>2.10</td>\n",
       "      <td>0.50</td>\n",
       "      <td>0.0</td>\n",
       "      <td>53.00</td>\n",
       "      <td>1.80</td>\n",
       "      <td>2.7</td>\n",
       "      <td>11.00</td>\n",
       "      <td>0.04000</td>\n",
       "      <td>0.015748</td>\n",
       "      <td>...</td>\n",
       "      <td>0.0</td>\n",
       "      <td>0.0</td>\n",
       "      <td>0.0</td>\n",
       "      <td>0.0</td>\n",
       "      <td>0.0</td>\n",
       "      <td>0.0</td>\n",
       "      <td>0.000</td>\n",
       "      <td>0.0</td>\n",
       "      <td>0.0</td>\n",
       "      <td>0.0</td>\n",
       "    </tr>\n",
       "    <tr>\n",
       "      <th>136909</th>\n",
       "      <td>1343.0</td>\n",
       "      <td>0.00</td>\n",
       "      <td>0.00</td>\n",
       "      <td>0.0</td>\n",
       "      <td>82.14</td>\n",
       "      <td>75.00</td>\n",
       "      <td>0.0</td>\n",
       "      <td>0.00</td>\n",
       "      <td>0.04572</td>\n",
       "      <td>0.018000</td>\n",
       "      <td>...</td>\n",
       "      <td>0.0</td>\n",
       "      <td>0.0</td>\n",
       "      <td>0.0</td>\n",
       "      <td>0.0</td>\n",
       "      <td>0.0</td>\n",
       "      <td>0.0</td>\n",
       "      <td>0.000</td>\n",
       "      <td>0.0</td>\n",
       "      <td>0.0</td>\n",
       "      <td>0.0</td>\n",
       "    </tr>\n",
       "  </tbody>\n",
       "</table>\n",
       "<p>3 rows × 34 columns</p>\n",
       "</div>"
      ],
      "text/plain": [
       "        energy_100g  fat_100g  saturated_fat_100g  trans_fat_100g  \\\n",
       "69324        1079.0     22.58                4.84             0.0   \n",
       "238950       1186.0      2.10                0.50             0.0   \n",
       "136909       1343.0      0.00                0.00             0.0   \n",
       "\n",
       "        carbohydrates_100g  sugars_100g  fiber_100g  proteins_100g  salt_100g  \\\n",
       "69324                 9.68         6.45         0.0           6.45    2.21234   \n",
       "238950               53.00         1.80         2.7          11.00    0.04000   \n",
       "136909               82.14        75.00         0.0           0.00    0.04572   \n",
       "\n",
       "        sodium_100g             ...               potassium_100g  zinc_100g  \\\n",
       "69324      0.871000             ...                          0.0        0.0   \n",
       "238950     0.015748             ...                          0.0        0.0   \n",
       "136909     0.018000             ...                          0.0        0.0   \n",
       "\n",
       "        lactose_100g  omega_3_fat_100g  omega_6_fat_100g  omega_9_fat_100g  \\\n",
       "69324            0.0               0.0               0.0               0.0   \n",
       "238950           0.0               0.0               0.0               0.0   \n",
       "136909           0.0               0.0               0.0               0.0   \n",
       "\n",
       "        cholesterol_100g  alcohol_100g  caffeine_100g  \\\n",
       "69324              0.065           0.0            0.0   \n",
       "238950             0.000           0.0            0.0   \n",
       "136909             0.000           0.0            0.0   \n",
       "\n",
       "        fruits_vegetables_nuts_100g  \n",
       "69324                           0.0  \n",
       "238950                          0.0  \n",
       "136909                          0.0  \n",
       "\n",
       "[3 rows x 34 columns]"
      ]
     },
     "execution_count": 50,
     "metadata": {},
     "output_type": "execute_result"
    }
   ],
   "source": [
    "nutri_data[terms_end_100g].sample(3)"
   ]
  },
  {
   "cell_type": "code",
   "execution_count": 51,
   "metadata": {},
   "outputs": [
    {
     "data": {
      "text/plain": [
       "energy_100g                    0\n",
       "fat_100g                       0\n",
       "saturated_fat_100g             0\n",
       "trans_fat_100g                 0\n",
       "carbohydrates_100g             0\n",
       "sugars_100g                    0\n",
       "fiber_100g                     0\n",
       "proteins_100g                  0\n",
       "salt_100g                      0\n",
       "sodium_100g                    0\n",
       "vitamin_a_100g                 0\n",
       "vitamin_d_100g                 0\n",
       "vitamin_e_100g                 0\n",
       "vitamin_k_100g                 0\n",
       "vitamin_c_100g                 0\n",
       "vitamin_b1_100g                0\n",
       "vitamin_b2_100g                0\n",
       "vitamin_pp_100g                0\n",
       "vitamin_b6_100g                0\n",
       "vitamin_b9_100g                0\n",
       "vitamin_b12_100g               0\n",
       "calcium_100g                   0\n",
       "iron_100g                      0\n",
       "magnesium_100g                 0\n",
       "potassium_100g                 0\n",
       "zinc_100g                      0\n",
       "lactose_100g                   0\n",
       "omega_3_fat_100g               0\n",
       "omega_6_fat_100g               0\n",
       "omega_9_fat_100g               0\n",
       "cholesterol_100g               0\n",
       "alcohol_100g                   0\n",
       "caffeine_100g                  0\n",
       "fruits_vegetables_nuts_100g    0\n",
       "dtype: int64"
      ]
     },
     "execution_count": 51,
     "metadata": {},
     "output_type": "execute_result"
    }
   ],
   "source": [
    "nutri_data[terms_end_100g].isnull().sum()"
   ]
  },
  {
   "cell_type": "markdown",
   "metadata": {},
   "source": [
    "#### 6. replace the null_values of nutrition-score-fr_100g and nutrition-score-uk_100g"
   ]
  },
  {
   "cell_type": "markdown",
   "metadata": {},
   "source": [
    "##### Define"
   ]
  },
  {
   "cell_type": "markdown",
   "metadata": {},
   "source": [
    "Replace those null_values by the median value"
   ]
  },
  {
   "cell_type": "markdown",
   "metadata": {},
   "source": [
    "##### Code"
   ]
  },
  {
   "cell_type": "code",
   "execution_count": 52,
   "metadata": {},
   "outputs": [
    {
     "data": {
      "text/html": [
       "<div>\n",
       "<style scoped>\n",
       "    .dataframe tbody tr th:only-of-type {\n",
       "        vertical-align: middle;\n",
       "    }\n",
       "\n",
       "    .dataframe tbody tr th {\n",
       "        vertical-align: top;\n",
       "    }\n",
       "\n",
       "    .dataframe thead th {\n",
       "        text-align: right;\n",
       "    }\n",
       "</style>\n",
       "<table border=\"1\" class=\"dataframe\">\n",
       "  <thead>\n",
       "    <tr style=\"text-align: right;\">\n",
       "      <th></th>\n",
       "      <th>code</th>\n",
       "      <th>product_name</th>\n",
       "      <th>energy_100g</th>\n",
       "      <th>fat_100g</th>\n",
       "      <th>saturated_fat_100g</th>\n",
       "      <th>trans_fat_100g</th>\n",
       "      <th>carbohydrates_100g</th>\n",
       "      <th>sugars_100g</th>\n",
       "      <th>fiber_100g</th>\n",
       "      <th>proteins_100g</th>\n",
       "      <th>...</th>\n",
       "      <th>omega_3_fat_100g</th>\n",
       "      <th>omega_6_fat_100g</th>\n",
       "      <th>omega_9_fat_100g</th>\n",
       "      <th>cholesterol_100g</th>\n",
       "      <th>alcohol_100g</th>\n",
       "      <th>caffeine_100g</th>\n",
       "      <th>fruits_vegetables_nuts_100g</th>\n",
       "      <th>nutrition_grade_fr</th>\n",
       "      <th>nutrition_score_fr_100g</th>\n",
       "      <th>nutrition_score_uk_100g</th>\n",
       "    </tr>\n",
       "  </thead>\n",
       "  <tbody>\n",
       "  </tbody>\n",
       "</table>\n",
       "<p>0 rows × 39 columns</p>\n",
       "</div>"
      ],
      "text/plain": [
       "Empty DataFrame\n",
       "Columns: [code, product_name, energy_100g, fat_100g, saturated_fat_100g, trans_fat_100g, carbohydrates_100g, sugars_100g, fiber_100g, proteins_100g, salt_100g, sodium_100g, vitamin_a_100g, vitamin_d_100g, vitamin_e_100g, vitamin_k_100g, vitamin_c_100g, vitamin_b1_100g, vitamin_b2_100g, vitamin_pp_100g, vitamin_b6_100g, vitamin_b9_100g, vitamin_b12_100g, calcium_100g, iron_100g, magnesium_100g, potassium_100g, zinc_100g, lactose_100g, omega_3_fat_100g, omega_6_fat_100g, omega_9_fat_100g, cholesterol_100g, alcohol_100g, caffeine_100g, fruits_vegetables_nuts_100g, nutrition_grade_fr, nutrition_score_fr_100g, nutrition_score_uk_100g]\n",
       "Index: []\n",
       "\n",
       "[0 rows x 39 columns]"
      ]
     },
     "execution_count": 52,
     "metadata": {},
     "output_type": "execute_result"
    }
   ],
   "source": [
    "# find amount of NAN for grade = NAN not corresponding with score = NAN\n",
    "nutri_data.query('nutrition_grade_fr.isnull() & (~nutrition_score_fr_100g.isnull()| ~nutrition_score_uk_100g.isnull())')"
   ]
  },
  {
   "cell_type": "code",
   "execution_count": 53,
   "metadata": {},
   "outputs": [
    {
     "name": "stdout",
     "output_type": "stream",
     "text": [
      "[10.0, 9.0]\n"
     ]
    }
   ],
   "source": [
    "# find the median for both scores\n",
    "median_score = list(nutri_data[[\"nutrition_score_fr_100g\",\"nutrition_score_uk_100g\"]].quantile(0.5))\n",
    "print(median_score)"
   ]
  },
  {
   "cell_type": "code",
   "execution_count": 54,
   "metadata": {},
   "outputs": [],
   "source": [
    "nutri_data.nutrition_score_fr_100g = nutri_data.nutrition_score_fr_100g.fillna(value=median_score[0])"
   ]
  },
  {
   "cell_type": "code",
   "execution_count": 55,
   "metadata": {},
   "outputs": [],
   "source": [
    "nutri_data.nutrition_score_uk_100g = nutri_data.nutrition_score_uk_100g.fillna(value=median_score[1])"
   ]
  },
  {
   "cell_type": "markdown",
   "metadata": {},
   "source": [
    "##### Test"
   ]
  },
  {
   "cell_type": "code",
   "execution_count": 56,
   "metadata": {},
   "outputs": [
    {
     "data": {
      "text/plain": [
       "nutrition_score_fr_100g    0\n",
       "nutrition_score_uk_100g    0\n",
       "dtype: int64"
      ]
     },
     "execution_count": 56,
     "metadata": {},
     "output_type": "execute_result"
    }
   ],
   "source": [
    "nutri_data[[\"nutrition_score_fr_100g\",\"nutrition_score_uk_100g\"]].isnull().sum()"
   ]
  },
  {
   "cell_type": "markdown",
   "metadata": {},
   "source": [
    "#### 7. Replace the null_values of \"nutrition_grade_fr \""
   ]
  },
  {
   "cell_type": "markdown",
   "metadata": {},
   "source": [
    "##### Define"
   ]
  },
  {
   "cell_type": "markdown",
   "metadata": {},
   "source": [
    "Replace the missing values in \"nutrition_grade_fr\" by the corresponding letter to nutrition_score_fr_100gr = 10\n",
    "on https://fr.openfoodfacts.org/nutriscore , for solid aliments = \"c\". **In order to keep track of the places of the null values in this case, we'll add a new column name \"nulls_grade_fr\"**"
   ]
  },
  {
   "cell_type": "markdown",
   "metadata": {},
   "source": [
    "##### Code"
   ]
  },
  {
   "cell_type": "code",
   "execution_count": 57,
   "metadata": {},
   "outputs": [],
   "source": [
    "nutri_data['nulls_grade_fr'] = np.where(nutri_data['nutrition_grade_fr'].isnull(),1,0)"
   ]
  },
  {
   "cell_type": "code",
   "execution_count": 58,
   "metadata": {},
   "outputs": [],
   "source": [
    "nutri_data.nutrition_grade_fr = nutri_data.nutrition_grade_fr.fillna(value=\"c\")"
   ]
  },
  {
   "cell_type": "markdown",
   "metadata": {},
   "source": [
    "##### Test"
   ]
  },
  {
   "cell_type": "code",
   "execution_count": 59,
   "metadata": {},
   "outputs": [
    {
     "data": {
      "text/plain": [
       "84524"
      ]
     },
     "execution_count": 59,
     "metadata": {},
     "output_type": "execute_result"
    }
   ],
   "source": [
    "nutri_data.query('nulls_grade_fr==1').nulls_grade_fr.count()"
   ]
  },
  {
   "cell_type": "code",
   "execution_count": 60,
   "metadata": {},
   "outputs": [
    {
     "data": {
      "text/plain": [
       "140798    b\n",
       "196469    a\n",
       "207249    c\n",
       "Name: nutrition_grade_fr, dtype: object"
      ]
     },
     "execution_count": 60,
     "metadata": {},
     "output_type": "execute_result"
    }
   ],
   "source": [
    "nutri_data.nutrition_grade_fr.sample(3)"
   ]
  },
  {
   "cell_type": "code",
   "execution_count": 61,
   "metadata": {},
   "outputs": [
    {
     "data": {
      "text/plain": [
       "0"
      ]
     },
     "execution_count": 61,
     "metadata": {},
     "output_type": "execute_result"
    }
   ],
   "source": [
    "nutri_data.nutrition_grade_fr.isnull().sum()"
   ]
  },
  {
   "cell_type": "code",
   "execution_count": 62,
   "metadata": {},
   "outputs": [
    {
     "data": {
      "text/plain": [
       "c    129484\n",
       "d     62019\n",
       "e     42377\n",
       "a     35297\n",
       "b     33810\n",
       "Name: nutrition_grade_fr, dtype: int64"
      ]
     },
     "execution_count": 62,
     "metadata": {},
     "output_type": "execute_result"
    }
   ],
   "source": [
    "nutri_data.nutrition_grade_fr.value_counts()"
   ]
  },
  {
   "cell_type": "markdown",
   "metadata": {},
   "source": [
    "#### 8. Convert type of \"nutrition_grade_fr\" "
   ]
  },
  {
   "cell_type": "markdown",
   "metadata": {},
   "source": [
    "##### Define"
   ]
  },
  {
   "cell_type": "markdown",
   "metadata": {},
   "source": [
    "Convert type of nutrition_grade_fr to an ordered categorical type (from a to e, a being the healthiest)"
   ]
  },
  {
   "cell_type": "markdown",
   "metadata": {},
   "source": [
    "##### Code"
   ]
  },
  {
   "cell_type": "code",
   "execution_count": 63,
   "metadata": {},
   "outputs": [],
   "source": [
    "# indicating order by decreasing health\n",
    "scores = ['a','b','c','d','e']\n",
    "ordered_score = pd.api.types.CategoricalDtype(ordered = True,categories = scores)\n",
    "nutri_data['nutrition_grade_fr'] = nutri_data['nutrition_grade_fr'].astype(ordered_score)"
   ]
  },
  {
   "cell_type": "markdown",
   "metadata": {},
   "source": [
    "##### Test"
   ]
  },
  {
   "cell_type": "code",
   "execution_count": 64,
   "metadata": {},
   "outputs": [
    {
     "data": {
      "text/plain": [
       "CategoricalDtype(categories=['a', 'b', 'c', 'd', 'e'], ordered=True)"
      ]
     },
     "execution_count": 64,
     "metadata": {},
     "output_type": "execute_result"
    }
   ],
   "source": [
    "nutri_data.nutrition_grade_fr.dtypes"
   ]
  },
  {
   "cell_type": "markdown",
   "metadata": {},
   "source": [
    "#### 9. change type of nutrition-score-fr_100g and nutrition-score-uk_100g"
   ]
  },
  {
   "cell_type": "markdown",
   "metadata": {},
   "source": [
    "##### Define"
   ]
  },
  {
   "cell_type": "markdown",
   "metadata": {},
   "source": [
    "Change the type from float to int"
   ]
  },
  {
   "cell_type": "markdown",
   "metadata": {},
   "source": [
    "##### Code"
   ]
  },
  {
   "cell_type": "code",
   "execution_count": 65,
   "metadata": {},
   "outputs": [],
   "source": [
    "nutri_data[[\"nutrition_score_fr_100g\",\"nutrition_score_uk_100g\"]]=\\\n",
    "nutri_data[[\"nutrition_score_fr_100g\",\"nutrition_score_uk_100g\"]].astype('int')"
   ]
  },
  {
   "cell_type": "markdown",
   "metadata": {},
   "source": [
    "##### Test"
   ]
  },
  {
   "cell_type": "code",
   "execution_count": 66,
   "metadata": {},
   "outputs": [
    {
     "data": {
      "text/plain": [
       "nutrition_score_fr_100g    int64\n",
       "nutrition_score_uk_100g    int64\n",
       "dtype: object"
      ]
     },
     "execution_count": 66,
     "metadata": {},
     "output_type": "execute_result"
    }
   ],
   "source": [
    "nutri_data[[\"nutrition_score_fr_100g\",\"nutrition_score_uk_100g\"]].dtypes"
   ]
  },
  {
   "cell_type": "markdown",
   "metadata": {},
   "source": [
    "### Are there some non-valid data and/or Outliers ?"
   ]
  },
  {
   "cell_type": "code",
   "execution_count": 67,
   "metadata": {},
   "outputs": [],
   "source": [
    "# import of necessary libraries\n",
    "import matplotlib.pyplot as plt\n",
    "import seaborn as sb"
   ]
  },
  {
   "cell_type": "markdown",
   "metadata": {},
   "source": [
    "> **Let's have a look at the outliers through Boxplots**\n",
    ">\n",
    "> Throughout this analysis we'll define outliners as measurements being above the Q3 + 1.5*(Q3-Q1)"
   ]
  },
  {
   "cell_type": "code",
   "execution_count": 68,
   "metadata": {},
   "outputs": [],
   "source": [
    "nutri_score = ['nutrition_score_fr_100g','nutrition_score_uk_100g']"
   ]
  },
  {
   "cell_type": "code",
   "execution_count": 69,
   "metadata": {},
   "outputs": [
    {
     "data": {
      "text/html": [
       "<div>\n",
       "<style scoped>\n",
       "    .dataframe tbody tr th:only-of-type {\n",
       "        vertical-align: middle;\n",
       "    }\n",
       "\n",
       "    .dataframe tbody tr th {\n",
       "        vertical-align: top;\n",
       "    }\n",
       "\n",
       "    .dataframe thead th {\n",
       "        text-align: right;\n",
       "    }\n",
       "</style>\n",
       "<table border=\"1\" class=\"dataframe\">\n",
       "  <thead>\n",
       "    <tr style=\"text-align: right;\">\n",
       "      <th></th>\n",
       "      <th>nutrition_score_fr_100g</th>\n",
       "      <th>nutrition_score_uk_100g</th>\n",
       "    </tr>\n",
       "  </thead>\n",
       "  <tbody>\n",
       "    <tr>\n",
       "      <th>count</th>\n",
       "      <td>302987.000000</td>\n",
       "      <td>302987.000000</td>\n",
       "    </tr>\n",
       "    <tr>\n",
       "      <th>mean</th>\n",
       "      <td>9.388366</td>\n",
       "      <td>9.032018</td>\n",
       "    </tr>\n",
       "    <tr>\n",
       "      <th>std</th>\n",
       "      <td>7.696277</td>\n",
       "      <td>7.795913</td>\n",
       "    </tr>\n",
       "    <tr>\n",
       "      <th>min</th>\n",
       "      <td>-15.000000</td>\n",
       "      <td>-15.000000</td>\n",
       "    </tr>\n",
       "    <tr>\n",
       "      <th>25%</th>\n",
       "      <td>3.000000</td>\n",
       "      <td>3.000000</td>\n",
       "    </tr>\n",
       "    <tr>\n",
       "      <th>50%</th>\n",
       "      <td>10.000000</td>\n",
       "      <td>9.000000</td>\n",
       "    </tr>\n",
       "    <tr>\n",
       "      <th>75%</th>\n",
       "      <td>14.000000</td>\n",
       "      <td>14.000000</td>\n",
       "    </tr>\n",
       "    <tr>\n",
       "      <th>max</th>\n",
       "      <td>40.000000</td>\n",
       "      <td>40.000000</td>\n",
       "    </tr>\n",
       "  </tbody>\n",
       "</table>\n",
       "</div>"
      ],
      "text/plain": [
       "       nutrition_score_fr_100g  nutrition_score_uk_100g\n",
       "count            302987.000000            302987.000000\n",
       "mean                  9.388366                 9.032018\n",
       "std                   7.696277                 7.795913\n",
       "min                 -15.000000               -15.000000\n",
       "25%                   3.000000                 3.000000\n",
       "50%                  10.000000                 9.000000\n",
       "75%                  14.000000                14.000000\n",
       "max                  40.000000                40.000000"
      ]
     },
     "execution_count": 69,
     "metadata": {},
     "output_type": "execute_result"
    }
   ],
   "source": [
    "nutri_data[nutri_score].describe()"
   ]
  },
  {
   "cell_type": "code",
   "execution_count": 70,
   "metadata": {},
   "outputs": [],
   "source": [
    "nutri_summary = ['energy_100g', 'fat_100g', 'saturated_fat_100g', 'trans_fat_100g', 'carbohydrates_100g',\n",
    "                 'sugars_100g', 'fiber_100g','proteins_100g', 'salt_100g', 'sodium_100g', 'vitamin_a_100g', \n",
    "                 'vitamin_d_100g', 'vitamin_e_100g', 'vitamin_k_100g','vitamin_c_100g', 'vitamin_b1_100g', \n",
    "                 'vitamin_b2_100g', 'vitamin_pp_100g', 'vitamin_b6_100g', 'vitamin_b9_100g', 'vitamin_b12_100g',\n",
    "                 'calcium_100g','iron_100g','magnesium_100g','potassium_100g','zinc_100g', \n",
    "                 'fruits_vegetables_nuts_100g']"
   ]
  },
  {
   "cell_type": "code",
   "execution_count": 95,
   "metadata": {},
   "outputs": [],
   "source": [
    "nutri_summary_mg = nutri_summary[10:-1]"
   ]
  },
  {
   "cell_type": "code",
   "execution_count": 97,
   "metadata": {},
   "outputs": [
    {
     "data": {
      "text/html": [
       "<div>\n",
       "<style scoped>\n",
       "    .dataframe tbody tr th:only-of-type {\n",
       "        vertical-align: middle;\n",
       "    }\n",
       "\n",
       "    .dataframe tbody tr th {\n",
       "        vertical-align: top;\n",
       "    }\n",
       "\n",
       "    .dataframe thead th {\n",
       "        text-align: right;\n",
       "    }\n",
       "</style>\n",
       "<table border=\"1\" class=\"dataframe\">\n",
       "  <thead>\n",
       "    <tr style=\"text-align: right;\">\n",
       "      <th></th>\n",
       "      <th>energy_100g</th>\n",
       "      <th>fat_100g</th>\n",
       "      <th>saturated_fat_100g</th>\n",
       "      <th>trans_fat_100g</th>\n",
       "      <th>carbohydrates_100g</th>\n",
       "      <th>sugars_100g</th>\n",
       "      <th>fiber_100g</th>\n",
       "      <th>proteins_100g</th>\n",
       "      <th>salt_100g</th>\n",
       "      <th>sodium_100g</th>\n",
       "      <th>...</th>\n",
       "      <th>vitamin_pp_100g</th>\n",
       "      <th>vitamin_b6_100g</th>\n",
       "      <th>vitamin_b9_100g</th>\n",
       "      <th>vitamin_b12_100g</th>\n",
       "      <th>calcium_100g</th>\n",
       "      <th>iron_100g</th>\n",
       "      <th>magnesium_100g</th>\n",
       "      <th>potassium_100g</th>\n",
       "      <th>zinc_100g</th>\n",
       "      <th>fruits_vegetables_nuts_100g</th>\n",
       "    </tr>\n",
       "  </thead>\n",
       "  <tbody>\n",
       "    <tr>\n",
       "      <th>count</th>\n",
       "      <td>3.029870e+05</td>\n",
       "      <td>302987.000000</td>\n",
       "      <td>302987.000000</td>\n",
       "      <td>302987.000000</td>\n",
       "      <td>302987.000000</td>\n",
       "      <td>302987.000000</td>\n",
       "      <td>302987.000000</td>\n",
       "      <td>302987.000000</td>\n",
       "      <td>302987.000000</td>\n",
       "      <td>302987.000000</td>\n",
       "      <td>...</td>\n",
       "      <td>302987.000000</td>\n",
       "      <td>302987.000000</td>\n",
       "      <td>302987.000000</td>\n",
       "      <td>302987.000000</td>\n",
       "      <td>302987.000000</td>\n",
       "      <td>302987.000000</td>\n",
       "      <td>302987.000000</td>\n",
       "      <td>302987.000000</td>\n",
       "      <td>302987.000000</td>\n",
       "      <td>302987.000000</td>\n",
       "    </tr>\n",
       "    <tr>\n",
       "      <th>mean</th>\n",
       "      <td>9.703036e+02</td>\n",
       "      <td>10.085419</td>\n",
       "      <td>3.826664</td>\n",
       "      <td>0.034694</td>\n",
       "      <td>25.449450</td>\n",
       "      <td>12.769188</td>\n",
       "      <td>1.876879</td>\n",
       "      <td>5.991374</td>\n",
       "      <td>1.698552</td>\n",
       "      <td>0.668719</td>\n",
       "      <td>...</td>\n",
       "      <td>0.000560</td>\n",
       "      <td>0.000504</td>\n",
       "      <td>0.000119</td>\n",
       "      <td>0.000002</td>\n",
       "      <td>0.058159</td>\n",
       "      <td>0.001692</td>\n",
       "      <td>0.011009</td>\n",
       "      <td>0.034636</td>\n",
       "      <td>0.000103</td>\n",
       "      <td>0.315120</td>\n",
       "    </tr>\n",
       "    <tr>\n",
       "      <th>std</th>\n",
       "      <td>5.994857e+03</td>\n",
       "      <td>16.480888</td>\n",
       "      <td>7.273449</td>\n",
       "      <td>1.059619</td>\n",
       "      <td>29.523575</td>\n",
       "      <td>20.971913</td>\n",
       "      <td>10.558953</td>\n",
       "      <td>8.155616</td>\n",
       "      <td>117.793144</td>\n",
       "      <td>46.375252</td>\n",
       "      <td>...</td>\n",
       "      <td>0.053048</td>\n",
       "      <td>0.180444</td>\n",
       "      <td>0.044082</td>\n",
       "      <td>0.000729</td>\n",
       "      <td>2.264892</td>\n",
       "      <td>0.145996</td>\n",
       "      <td>1.940534</td>\n",
       "      <td>3.582476</td>\n",
       "      <td>0.009261</td>\n",
       "      <td>4.477961</td>\n",
       "    </tr>\n",
       "    <tr>\n",
       "      <th>min</th>\n",
       "      <td>0.000000e+00</td>\n",
       "      <td>0.000000</td>\n",
       "      <td>0.000000</td>\n",
       "      <td>-3.570000</td>\n",
       "      <td>0.000000</td>\n",
       "      <td>-17.860000</td>\n",
       "      <td>-6.700000</td>\n",
       "      <td>-800.000000</td>\n",
       "      <td>0.000000</td>\n",
       "      <td>0.000000</td>\n",
       "      <td>...</td>\n",
       "      <td>0.000000</td>\n",
       "      <td>0.000000</td>\n",
       "      <td>0.000000</td>\n",
       "      <td>0.000000</td>\n",
       "      <td>0.000000</td>\n",
       "      <td>-0.000260</td>\n",
       "      <td>0.000000</td>\n",
       "      <td>0.000000</td>\n",
       "      <td>0.000000</td>\n",
       "      <td>0.000000</td>\n",
       "    </tr>\n",
       "    <tr>\n",
       "      <th>25%</th>\n",
       "      <td>1.760000e+02</td>\n",
       "      <td>0.000000</td>\n",
       "      <td>0.000000</td>\n",
       "      <td>0.000000</td>\n",
       "      <td>0.000000</td>\n",
       "      <td>0.000000</td>\n",
       "      <td>0.000000</td>\n",
       "      <td>0.000000</td>\n",
       "      <td>0.000000</td>\n",
       "      <td>0.000000</td>\n",
       "      <td>...</td>\n",
       "      <td>0.000000</td>\n",
       "      <td>0.000000</td>\n",
       "      <td>0.000000</td>\n",
       "      <td>0.000000</td>\n",
       "      <td>0.000000</td>\n",
       "      <td>0.000000</td>\n",
       "      <td>0.000000</td>\n",
       "      <td>0.000000</td>\n",
       "      <td>0.000000</td>\n",
       "      <td>0.000000</td>\n",
       "    </tr>\n",
       "    <tr>\n",
       "      <th>50%</th>\n",
       "      <td>8.370000e+02</td>\n",
       "      <td>1.690000</td>\n",
       "      <td>0.200000</td>\n",
       "      <td>0.000000</td>\n",
       "      <td>11.500000</td>\n",
       "      <td>3.330000</td>\n",
       "      <td>0.000000</td>\n",
       "      <td>3.330000</td>\n",
       "      <td>0.250000</td>\n",
       "      <td>0.098425</td>\n",
       "      <td>...</td>\n",
       "      <td>0.000000</td>\n",
       "      <td>0.000000</td>\n",
       "      <td>0.000000</td>\n",
       "      <td>0.000000</td>\n",
       "      <td>0.000000</td>\n",
       "      <td>0.000000</td>\n",
       "      <td>0.000000</td>\n",
       "      <td>0.000000</td>\n",
       "      <td>0.000000</td>\n",
       "      <td>0.000000</td>\n",
       "    </tr>\n",
       "    <tr>\n",
       "      <th>75%</th>\n",
       "      <td>1.594000e+03</td>\n",
       "      <td>15.380000</td>\n",
       "      <td>5.000000</td>\n",
       "      <td>0.000000</td>\n",
       "      <td>50.600000</td>\n",
       "      <td>16.600000</td>\n",
       "      <td>2.400000</td>\n",
       "      <td>8.700000</td>\n",
       "      <td>1.178560</td>\n",
       "      <td>0.464000</td>\n",
       "      <td>...</td>\n",
       "      <td>0.000000</td>\n",
       "      <td>0.000000</td>\n",
       "      <td>0.000000</td>\n",
       "      <td>0.000000</td>\n",
       "      <td>0.028000</td>\n",
       "      <td>0.000850</td>\n",
       "      <td>0.000000</td>\n",
       "      <td>0.000000</td>\n",
       "      <td>0.000000</td>\n",
       "      <td>0.000000</td>\n",
       "    </tr>\n",
       "    <tr>\n",
       "      <th>max</th>\n",
       "      <td>3.251373e+06</td>\n",
       "      <td>714.290000</td>\n",
       "      <td>550.000000</td>\n",
       "      <td>369.000000</td>\n",
       "      <td>2916.670000</td>\n",
       "      <td>3520.000000</td>\n",
       "      <td>5380.000000</td>\n",
       "      <td>430.000000</td>\n",
       "      <td>64312.800000</td>\n",
       "      <td>25320.000000</td>\n",
       "      <td>...</td>\n",
       "      <td>21.428571</td>\n",
       "      <td>92.600000</td>\n",
       "      <td>23.076923</td>\n",
       "      <td>0.400000</td>\n",
       "      <td>694.737000</td>\n",
       "      <td>50.000000</td>\n",
       "      <td>657.143000</td>\n",
       "      <td>1870.370000</td>\n",
       "      <td>4.000000</td>\n",
       "      <td>100.000000</td>\n",
       "    </tr>\n",
       "  </tbody>\n",
       "</table>\n",
       "<p>8 rows × 27 columns</p>\n",
       "</div>"
      ],
      "text/plain": [
       "        energy_100g       fat_100g  saturated_fat_100g  trans_fat_100g  \\\n",
       "count  3.029870e+05  302987.000000       302987.000000   302987.000000   \n",
       "mean   9.703036e+02      10.085419            3.826664        0.034694   \n",
       "std    5.994857e+03      16.480888            7.273449        1.059619   \n",
       "min    0.000000e+00       0.000000            0.000000       -3.570000   \n",
       "25%    1.760000e+02       0.000000            0.000000        0.000000   \n",
       "50%    8.370000e+02       1.690000            0.200000        0.000000   \n",
       "75%    1.594000e+03      15.380000            5.000000        0.000000   \n",
       "max    3.251373e+06     714.290000          550.000000      369.000000   \n",
       "\n",
       "       carbohydrates_100g    sugars_100g     fiber_100g  proteins_100g  \\\n",
       "count       302987.000000  302987.000000  302987.000000  302987.000000   \n",
       "mean            25.449450      12.769188       1.876879       5.991374   \n",
       "std             29.523575      20.971913      10.558953       8.155616   \n",
       "min              0.000000     -17.860000      -6.700000    -800.000000   \n",
       "25%              0.000000       0.000000       0.000000       0.000000   \n",
       "50%             11.500000       3.330000       0.000000       3.330000   \n",
       "75%             50.600000      16.600000       2.400000       8.700000   \n",
       "max           2916.670000    3520.000000    5380.000000     430.000000   \n",
       "\n",
       "           salt_100g    sodium_100g             ...               \\\n",
       "count  302987.000000  302987.000000             ...                \n",
       "mean        1.698552       0.668719             ...                \n",
       "std       117.793144      46.375252             ...                \n",
       "min         0.000000       0.000000             ...                \n",
       "25%         0.000000       0.000000             ...                \n",
       "50%         0.250000       0.098425             ...                \n",
       "75%         1.178560       0.464000             ...                \n",
       "max     64312.800000   25320.000000             ...                \n",
       "\n",
       "       vitamin_pp_100g  vitamin_b6_100g  vitamin_b9_100g  vitamin_b12_100g  \\\n",
       "count    302987.000000    302987.000000    302987.000000     302987.000000   \n",
       "mean          0.000560         0.000504         0.000119          0.000002   \n",
       "std           0.053048         0.180444         0.044082          0.000729   \n",
       "min           0.000000         0.000000         0.000000          0.000000   \n",
       "25%           0.000000         0.000000         0.000000          0.000000   \n",
       "50%           0.000000         0.000000         0.000000          0.000000   \n",
       "75%           0.000000         0.000000         0.000000          0.000000   \n",
       "max          21.428571        92.600000        23.076923          0.400000   \n",
       "\n",
       "        calcium_100g      iron_100g  magnesium_100g  potassium_100g  \\\n",
       "count  302987.000000  302987.000000   302987.000000   302987.000000   \n",
       "mean        0.058159       0.001692        0.011009        0.034636   \n",
       "std         2.264892       0.145996        1.940534        3.582476   \n",
       "min         0.000000      -0.000260        0.000000        0.000000   \n",
       "25%         0.000000       0.000000        0.000000        0.000000   \n",
       "50%         0.000000       0.000000        0.000000        0.000000   \n",
       "75%         0.028000       0.000850        0.000000        0.000000   \n",
       "max       694.737000      50.000000      657.143000     1870.370000   \n",
       "\n",
       "           zinc_100g  fruits_vegetables_nuts_100g  \n",
       "count  302987.000000                302987.000000  \n",
       "mean        0.000103                     0.315120  \n",
       "std         0.009261                     4.477961  \n",
       "min         0.000000                     0.000000  \n",
       "25%         0.000000                     0.000000  \n",
       "50%         0.000000                     0.000000  \n",
       "75%         0.000000                     0.000000  \n",
       "max         4.000000                   100.000000  \n",
       "\n",
       "[8 rows x 27 columns]"
      ]
     },
     "execution_count": 97,
     "metadata": {},
     "output_type": "execute_result"
    }
   ],
   "source": [
    "nutri_data[nutri_summary].describe()"
   ]
  },
  {
   "cell_type": "code",
   "execution_count": 98,
   "metadata": {},
   "outputs": [],
   "source": [
    "nutri_rest = ['lactose_100g', 'omega_3_fat_100g', 'omega_6_fat_100g', 'omega_9_fat_100g', \n",
    "              'cholesterol_100g', 'alcohol_100g', 'caffeine_100g']"
   ]
  },
  {
   "cell_type": "code",
   "execution_count": 99,
   "metadata": {},
   "outputs": [
    {
     "data": {
      "text/html": [
       "<div>\n",
       "<style scoped>\n",
       "    .dataframe tbody tr th:only-of-type {\n",
       "        vertical-align: middle;\n",
       "    }\n",
       "\n",
       "    .dataframe tbody tr th {\n",
       "        vertical-align: top;\n",
       "    }\n",
       "\n",
       "    .dataframe thead th {\n",
       "        text-align: right;\n",
       "    }\n",
       "</style>\n",
       "<table border=\"1\" class=\"dataframe\">\n",
       "  <thead>\n",
       "    <tr style=\"text-align: right;\">\n",
       "      <th></th>\n",
       "      <th>lactose_100g</th>\n",
       "      <th>omega_3_fat_100g</th>\n",
       "      <th>omega_6_fat_100g</th>\n",
       "      <th>omega_9_fat_100g</th>\n",
       "      <th>cholesterol_100g</th>\n",
       "      <th>alcohol_100g</th>\n",
       "      <th>caffeine_100g</th>\n",
       "    </tr>\n",
       "  </thead>\n",
       "  <tbody>\n",
       "    <tr>\n",
       "      <th>count</th>\n",
       "      <td>302987.000000</td>\n",
       "      <td>302987.000000</td>\n",
       "      <td>302987.000000</td>\n",
       "      <td>302987.000000</td>\n",
       "      <td>302987.000000</td>\n",
       "      <td>302987.000000</td>\n",
       "      <td>302987.000000</td>\n",
       "    </tr>\n",
       "    <tr>\n",
       "      <th>mean</th>\n",
       "      <td>0.005396</td>\n",
       "      <td>0.008632</td>\n",
       "      <td>0.010070</td>\n",
       "      <td>0.002786</td>\n",
       "      <td>0.009539</td>\n",
       "      <td>0.103219</td>\n",
       "      <td>0.000410</td>\n",
       "    </tr>\n",
       "    <tr>\n",
       "      <th>std</th>\n",
       "      <td>0.461145</td>\n",
       "      <td>0.327113</td>\n",
       "      <td>0.593813</td>\n",
       "      <td>0.392171</td>\n",
       "      <td>0.247125</td>\n",
       "      <td>1.543607</td>\n",
       "      <td>0.106354</td>\n",
       "    </tr>\n",
       "    <tr>\n",
       "      <th>min</th>\n",
       "      <td>0.000000</td>\n",
       "      <td>0.000000</td>\n",
       "      <td>0.000000</td>\n",
       "      <td>0.000000</td>\n",
       "      <td>0.000000</td>\n",
       "      <td>0.000000</td>\n",
       "      <td>0.000000</td>\n",
       "    </tr>\n",
       "    <tr>\n",
       "      <th>25%</th>\n",
       "      <td>0.000000</td>\n",
       "      <td>0.000000</td>\n",
       "      <td>0.000000</td>\n",
       "      <td>0.000000</td>\n",
       "      <td>0.000000</td>\n",
       "      <td>0.000000</td>\n",
       "      <td>0.000000</td>\n",
       "    </tr>\n",
       "    <tr>\n",
       "      <th>50%</th>\n",
       "      <td>0.000000</td>\n",
       "      <td>0.000000</td>\n",
       "      <td>0.000000</td>\n",
       "      <td>0.000000</td>\n",
       "      <td>0.000000</td>\n",
       "      <td>0.000000</td>\n",
       "      <td>0.000000</td>\n",
       "    </tr>\n",
       "    <tr>\n",
       "      <th>75%</th>\n",
       "      <td>0.000000</td>\n",
       "      <td>0.000000</td>\n",
       "      <td>0.000000</td>\n",
       "      <td>0.000000</td>\n",
       "      <td>0.000000</td>\n",
       "      <td>0.000000</td>\n",
       "      <td>0.000000</td>\n",
       "    </tr>\n",
       "    <tr>\n",
       "      <th>max</th>\n",
       "      <td>74.500000</td>\n",
       "      <td>60.000000</td>\n",
       "      <td>71.000000</td>\n",
       "      <td>75.000000</td>\n",
       "      <td>95.238000</td>\n",
       "      <td>97.900000</td>\n",
       "      <td>42.280000</td>\n",
       "    </tr>\n",
       "  </tbody>\n",
       "</table>\n",
       "</div>"
      ],
      "text/plain": [
       "        lactose_100g  omega_3_fat_100g  omega_6_fat_100g  omega_9_fat_100g  \\\n",
       "count  302987.000000     302987.000000     302987.000000     302987.000000   \n",
       "mean        0.005396          0.008632          0.010070          0.002786   \n",
       "std         0.461145          0.327113          0.593813          0.392171   \n",
       "min         0.000000          0.000000          0.000000          0.000000   \n",
       "25%         0.000000          0.000000          0.000000          0.000000   \n",
       "50%         0.000000          0.000000          0.000000          0.000000   \n",
       "75%         0.000000          0.000000          0.000000          0.000000   \n",
       "max        74.500000         60.000000         71.000000         75.000000   \n",
       "\n",
       "       cholesterol_100g   alcohol_100g  caffeine_100g  \n",
       "count     302987.000000  302987.000000  302987.000000  \n",
       "mean           0.009539       0.103219       0.000410  \n",
       "std            0.247125       1.543607       0.106354  \n",
       "min            0.000000       0.000000       0.000000  \n",
       "25%            0.000000       0.000000       0.000000  \n",
       "50%            0.000000       0.000000       0.000000  \n",
       "75%            0.000000       0.000000       0.000000  \n",
       "max           95.238000      97.900000      42.280000  "
      ]
     },
     "execution_count": 99,
     "metadata": {},
     "output_type": "execute_result"
    }
   ],
   "source": [
    "nutri_data[nutri_rest].describe()"
   ]
  },
  {
   "cell_type": "code",
   "execution_count": 100,
   "metadata": {},
   "outputs": [
    {
     "data": {
      "image/png": "[encoded data removed]",
      "text/plain": [
       "<Figure size 432x288 with 1 Axes>"
      ]
     },
     "metadata": {},
     "output_type": "display_data"
    }
   ],
   "source": [
    "base_color = sb.color_palette()[0]\n",
    "sb.boxplot(x=\"variable\", y=\"value\", data=nutri_data[nutri_score].melt(),color=base_color)\n",
    "plt.title(\"Boxplot for the nutrition_score\")\n",
    "plt.xlabel(\"\")\n",
    "plt.ylabel(\"Score\")\n",
    "plt.show()"
   ]
  },
  {
   "cell_type": "code",
   "execution_count": 101,
   "metadata": {},
   "outputs": [
    {
     "data": {
      "image/png": "[encoded data removed]",
      "text/plain": [
       "<Figure size 432x288 with 1 Axes>"
      ]
     },
     "metadata": {},
     "output_type": "display_data"
    }
   ],
   "source": [
    "nutri_data['energy_100g'].plot(kind='box')\n",
    "plt.ylim([0,250000]);"
   ]
  },
  {
   "cell_type": "code",
   "execution_count": 102,
   "metadata": {},
   "outputs": [],
   "source": [
    "nutri_summary_g = nutri_summary[1:9]"
   ]
  },
  {
   "cell_type": "code",
   "execution_count": 103,
   "metadata": {},
   "outputs": [
    {
     "data": {
      "image/png": "[encoded data removed]",
      "text/plain": [
       "<Figure size 1080x504 with 1 Axes>"
      ]
     },
     "metadata": {},
     "output_type": "display_data"
    }
   ],
   "source": [
    "plt.figure(figsize = [15,7])\n",
    "sb.boxplot(x=\"variable\", y=\"value\", data=nutri_data[nutri_summary_g].melt(),color=base_color)\n",
    "plt.title(\"Boxplot for important attributes, content in g/100g\")\n",
    "plt.ylim([0,120])\n",
    "plt.xlabel(\"\")\n",
    "plt.ylabel(\"[g/100g]\")\n",
    "plt.xticks(rotation = 90);\n",
    "plt.show()"
   ]
  },
  {
   "cell_type": "code",
   "execution_count": 104,
   "metadata": {},
   "outputs": [
    {
     "data": {
      "text/plain": [
       "count    302987.000000\n",
       "mean          0.315120\n",
       "std           4.477961\n",
       "min           0.000000\n",
       "25%           0.000000\n",
       "50%           0.000000\n",
       "75%           0.000000\n",
       "max         100.000000\n",
       "Name: fruits_vegetables_nuts_100g, dtype: float64"
      ]
     },
     "execution_count": 104,
     "metadata": {},
     "output_type": "execute_result"
    }
   ],
   "source": [
    "nutri_data['fruits_vegetables_nuts_100g'].describe()"
   ]
  },
  {
   "cell_type": "code",
   "execution_count": 105,
   "metadata": {},
   "outputs": [
    {
     "data": {
      "text/plain": [
       "99.31614227673134"
      ]
     },
     "execution_count": 105,
     "metadata": {},
     "output_type": "execute_result"
    }
   ],
   "source": [
    "# % of rows of \"fruits_vegetalbes_nuts_100g\" being equal to 0\n",
    "(nutri_data.query('fruits_vegetables_nuts_100g==0').code.count()/nutri_data.shape[0])*100"
   ]
  },
  {
   "cell_type": "markdown",
   "metadata": {},
   "source": [
    "> 99% of the rows is 0 => won't be very usefull for the exploration phase "
   ]
  },
  {
   "cell_type": "markdown",
   "metadata": {},
   "source": [
    "#### 10. For nutriments in g/100g => number of lines  < 0 or > 100g"
   ]
  },
  {
   "cell_type": "markdown",
   "metadata": {},
   "source": [
    "> First, for the aliments expressed in g per 100g, let's remove the values, smaller than 0g and bigger than 100g"
   ]
  },
  {
   "cell_type": "code",
   "execution_count": 106,
   "metadata": {},
   "outputs": [],
   "source": [
    "to_be_cleaned = nutri_data.copy()"
   ]
  },
  {
   "cell_type": "markdown",
   "metadata": {},
   "source": [
    "#### Define"
   ]
  },
  {
   "cell_type": "markdown",
   "metadata": {},
   "source": [
    "Check how many lines in **nutri_summary_g** and **nutri_summary_mg** don't respect this criteria. And then delete them."
   ]
  },
  {
   "cell_type": "markdown",
   "metadata": {},
   "source": [
    "#### Code"
   ]
  },
  {
   "cell_type": "code",
   "execution_count": 107,
   "metadata": {},
   "outputs": [],
   "source": [
    "def count_wrong_data(data,list_columns,lim_inf,lim_sup):\n",
    "    for composant in list_columns:\n",
    "        # defition of the indicators        \n",
    "        print(composant)\n",
    "        criteria = ((data[composant]<lim_inf) | (data[composant]>lim_sup))\n",
    "        print(\"Number of outliers\")\n",
    "        print(criteria.sum())"
   ]
  },
  {
   "cell_type": "code",
   "execution_count": 108,
   "metadata": {},
   "outputs": [
    {
     "name": "stdout",
     "output_type": "stream",
     "text": [
      "fat_100g\n",
      "Number of outliers\n",
      "4\n",
      "saturated_fat_100g\n",
      "Number of outliers\n",
      "3\n",
      "trans_fat_100g\n",
      "Number of outliers\n",
      "9\n",
      "carbohydrates_100g\n",
      "Number of outliers\n",
      "18\n",
      "sugars_100g\n",
      "Number of outliers\n",
      "18\n",
      "fiber_100g\n",
      "Number of outliers\n",
      "5\n",
      "proteins_100g\n",
      "Number of outliers\n",
      "4\n",
      "salt_100g\n",
      "Number of outliers\n",
      "156\n"
     ]
    }
   ],
   "source": [
    "# amount of points outside [0,100]\n",
    "count_wrong_data(to_be_cleaned ,nutri_summary_g,0,100)"
   ]
  },
  {
   "cell_type": "code",
   "execution_count": 109,
   "metadata": {},
   "outputs": [
    {
     "name": "stdout",
     "output_type": "stream",
     "text": [
      "vitamin_a_100g\n",
      "Number of outliers\n",
      "1\n",
      "vitamin_d_100g\n",
      "Number of outliers\n",
      "0\n",
      "vitamin_e_100g\n",
      "Number of outliers\n",
      "0\n",
      "vitamin_k_100g\n",
      "Number of outliers\n",
      "0\n",
      "vitamin_c_100g\n",
      "Number of outliers\n",
      "4\n",
      "vitamin_b1_100g\n",
      "Number of outliers\n",
      "1\n",
      "vitamin_b2_100g\n",
      "Number of outliers\n",
      "0\n",
      "vitamin_pp_100g\n",
      "Number of outliers\n",
      "0\n",
      "vitamin_b6_100g\n",
      "Number of outliers\n",
      "0\n",
      "vitamin_b9_100g\n",
      "Number of outliers\n",
      "0\n",
      "vitamin_b12_100g\n",
      "Number of outliers\n",
      "0\n",
      "calcium_100g\n",
      "Number of outliers\n",
      "10\n",
      "iron_100g\n",
      "Number of outliers\n",
      "1\n",
      "magnesium_100g\n",
      "Number of outliers\n",
      "6\n",
      "potassium_100g\n",
      "Number of outliers\n",
      "2\n",
      "zinc_100g\n",
      "Number of outliers\n",
      "0\n"
     ]
    }
   ],
   "source": [
    "# amount of points outside [0,100]\n",
    "count_wrong_data(to_be_cleaned ,nutri_summary_mg,0,100)"
   ]
  },
  {
   "cell_type": "code",
   "execution_count": 110,
   "metadata": {},
   "outputs": [],
   "source": [
    "def data_without_wrong_data(data,list_columns,lim_inf,lim_sup):\n",
    "    for composant in list_columns:\n",
    "        # defition of the indicators        \n",
    "        print(composant)\n",
    "        criteria = ((data[composant]>=lim_inf) & (data[composant]<=lim_sup))\n",
    "        clean_data = data[criteria]\n",
    "        data = clean_data\n",
    "    return clean_data       "
   ]
  },
  {
   "cell_type": "code",
   "execution_count": 111,
   "metadata": {},
   "outputs": [
    {
     "name": "stdout",
     "output_type": "stream",
     "text": [
      "fat_100g\n",
      "saturated_fat_100g\n",
      "trans_fat_100g\n",
      "carbohydrates_100g\n",
      "sugars_100g\n",
      "fiber_100g\n",
      "proteins_100g\n",
      "salt_100g\n"
     ]
    }
   ],
   "source": [
    "clean_data = data_without_wrong_data(to_be_cleaned,nutri_summary_g,0,100)"
   ]
  },
  {
   "cell_type": "code",
   "execution_count": 112,
   "metadata": {},
   "outputs": [
    {
     "name": "stdout",
     "output_type": "stream",
     "text": [
      "vitamin_a_100g\n",
      "vitamin_d_100g\n",
      "vitamin_e_100g\n",
      "vitamin_k_100g\n",
      "vitamin_c_100g\n",
      "vitamin_b1_100g\n",
      "vitamin_b2_100g\n",
      "vitamin_pp_100g\n",
      "vitamin_b6_100g\n",
      "vitamin_b9_100g\n",
      "vitamin_b12_100g\n",
      "calcium_100g\n",
      "iron_100g\n",
      "magnesium_100g\n",
      "potassium_100g\n",
      "zinc_100g\n"
     ]
    }
   ],
   "source": [
    "clean_data = data_without_wrong_data(clean_data,nutri_summary_mg,0,100)"
   ]
  },
  {
   "cell_type": "markdown",
   "metadata": {},
   "source": [
    "#### Test"
   ]
  },
  {
   "cell_type": "code",
   "execution_count": 113,
   "metadata": {},
   "outputs": [
    {
     "data": {
      "text/plain": [
       "(302762, 40)"
      ]
     },
     "execution_count": 113,
     "metadata": {},
     "output_type": "execute_result"
    }
   ],
   "source": [
    "clean_data.shape"
   ]
  },
  {
   "cell_type": "code",
   "execution_count": 114,
   "metadata": {},
   "outputs": [
    {
     "data": {
      "text/html": [
       "<div>\n",
       "<style scoped>\n",
       "    .dataframe tbody tr th:only-of-type {\n",
       "        vertical-align: middle;\n",
       "    }\n",
       "\n",
       "    .dataframe tbody tr th {\n",
       "        vertical-align: top;\n",
       "    }\n",
       "\n",
       "    .dataframe thead th {\n",
       "        text-align: right;\n",
       "    }\n",
       "</style>\n",
       "<table border=\"1\" class=\"dataframe\">\n",
       "  <thead>\n",
       "    <tr style=\"text-align: right;\">\n",
       "      <th></th>\n",
       "      <th>fat_100g</th>\n",
       "      <th>saturated_fat_100g</th>\n",
       "      <th>trans_fat_100g</th>\n",
       "      <th>carbohydrates_100g</th>\n",
       "      <th>sugars_100g</th>\n",
       "      <th>fiber_100g</th>\n",
       "      <th>proteins_100g</th>\n",
       "      <th>salt_100g</th>\n",
       "    </tr>\n",
       "  </thead>\n",
       "  <tbody>\n",
       "    <tr>\n",
       "      <th>count</th>\n",
       "      <td>302762.000000</td>\n",
       "      <td>302762.000000</td>\n",
       "      <td>302762.000000</td>\n",
       "      <td>302762.000000</td>\n",
       "      <td>302762.000000</td>\n",
       "      <td>302762.000000</td>\n",
       "      <td>302762.000000</td>\n",
       "      <td>302762.000000</td>\n",
       "    </tr>\n",
       "    <tr>\n",
       "      <th>mean</th>\n",
       "      <td>10.084940</td>\n",
       "      <td>3.824622</td>\n",
       "      <td>0.031734</td>\n",
       "      <td>25.441084</td>\n",
       "      <td>12.758179</td>\n",
       "      <td>1.857429</td>\n",
       "      <td>5.996313</td>\n",
       "      <td>1.327555</td>\n",
       "    </tr>\n",
       "    <tr>\n",
       "      <th>std</th>\n",
       "      <td>16.418229</td>\n",
       "      <td>7.187823</td>\n",
       "      <td>0.650585</td>\n",
       "      <td>29.043519</td>\n",
       "      <td>19.973317</td>\n",
       "      <td>3.952889</td>\n",
       "      <td>7.932875</td>\n",
       "      <td>5.745464</td>\n",
       "    </tr>\n",
       "    <tr>\n",
       "      <th>min</th>\n",
       "      <td>0.000000</td>\n",
       "      <td>0.000000</td>\n",
       "      <td>0.000000</td>\n",
       "      <td>0.000000</td>\n",
       "      <td>0.000000</td>\n",
       "      <td>0.000000</td>\n",
       "      <td>0.000000</td>\n",
       "      <td>0.000000</td>\n",
       "    </tr>\n",
       "    <tr>\n",
       "      <th>25%</th>\n",
       "      <td>0.000000</td>\n",
       "      <td>0.000000</td>\n",
       "      <td>0.000000</td>\n",
       "      <td>0.000000</td>\n",
       "      <td>0.000000</td>\n",
       "      <td>0.000000</td>\n",
       "      <td>0.000000</td>\n",
       "      <td>0.000000</td>\n",
       "    </tr>\n",
       "    <tr>\n",
       "      <th>50%</th>\n",
       "      <td>1.700000</td>\n",
       "      <td>0.200000</td>\n",
       "      <td>0.000000</td>\n",
       "      <td>11.500000</td>\n",
       "      <td>3.330000</td>\n",
       "      <td>0.000000</td>\n",
       "      <td>3.330000</td>\n",
       "      <td>0.250000</td>\n",
       "    </tr>\n",
       "    <tr>\n",
       "      <th>75%</th>\n",
       "      <td>15.380000</td>\n",
       "      <td>5.000000</td>\n",
       "      <td>0.000000</td>\n",
       "      <td>50.600000</td>\n",
       "      <td>16.600000</td>\n",
       "      <td>2.400000</td>\n",
       "      <td>8.700000</td>\n",
       "      <td>1.178560</td>\n",
       "    </tr>\n",
       "    <tr>\n",
       "      <th>max</th>\n",
       "      <td>100.000000</td>\n",
       "      <td>100.000000</td>\n",
       "      <td>100.000000</td>\n",
       "      <td>100.000000</td>\n",
       "      <td>100.000000</td>\n",
       "      <td>100.000000</td>\n",
       "      <td>100.000000</td>\n",
       "      <td>100.000000</td>\n",
       "    </tr>\n",
       "  </tbody>\n",
       "</table>\n",
       "</div>"
      ],
      "text/plain": [
       "            fat_100g  saturated_fat_100g  trans_fat_100g  carbohydrates_100g  \\\n",
       "count  302762.000000       302762.000000   302762.000000       302762.000000   \n",
       "mean       10.084940            3.824622        0.031734           25.441084   \n",
       "std        16.418229            7.187823        0.650585           29.043519   \n",
       "min         0.000000            0.000000        0.000000            0.000000   \n",
       "25%         0.000000            0.000000        0.000000            0.000000   \n",
       "50%         1.700000            0.200000        0.000000           11.500000   \n",
       "75%        15.380000            5.000000        0.000000           50.600000   \n",
       "max       100.000000          100.000000      100.000000          100.000000   \n",
       "\n",
       "         sugars_100g     fiber_100g  proteins_100g      salt_100g  \n",
       "count  302762.000000  302762.000000  302762.000000  302762.000000  \n",
       "mean       12.758179       1.857429       5.996313       1.327555  \n",
       "std        19.973317       3.952889       7.932875       5.745464  \n",
       "min         0.000000       0.000000       0.000000       0.000000  \n",
       "25%         0.000000       0.000000       0.000000       0.000000  \n",
       "50%         3.330000       0.000000       3.330000       0.250000  \n",
       "75%        16.600000       2.400000       8.700000       1.178560  \n",
       "max       100.000000     100.000000     100.000000     100.000000  "
      ]
     },
     "execution_count": 114,
     "metadata": {},
     "output_type": "execute_result"
    }
   ],
   "source": [
    "clean_data[nutri_summary_g].describe()"
   ]
  },
  {
   "cell_type": "code",
   "execution_count": 115,
   "metadata": {},
   "outputs": [
    {
     "data": {
      "text/html": [
       "<div>\n",
       "<style scoped>\n",
       "    .dataframe tbody tr th:only-of-type {\n",
       "        vertical-align: middle;\n",
       "    }\n",
       "\n",
       "    .dataframe tbody tr th {\n",
       "        vertical-align: top;\n",
       "    }\n",
       "\n",
       "    .dataframe thead th {\n",
       "        text-align: right;\n",
       "    }\n",
       "</style>\n",
       "<table border=\"1\" class=\"dataframe\">\n",
       "  <thead>\n",
       "    <tr style=\"text-align: right;\">\n",
       "      <th></th>\n",
       "      <th>vitamin_a_100g</th>\n",
       "      <th>vitamin_d_100g</th>\n",
       "      <th>vitamin_e_100g</th>\n",
       "      <th>vitamin_k_100g</th>\n",
       "      <th>vitamin_c_100g</th>\n",
       "      <th>vitamin_b1_100g</th>\n",
       "      <th>vitamin_b2_100g</th>\n",
       "      <th>vitamin_pp_100g</th>\n",
       "      <th>vitamin_b6_100g</th>\n",
       "      <th>vitamin_b9_100g</th>\n",
       "      <th>vitamin_b12_100g</th>\n",
       "      <th>calcium_100g</th>\n",
       "      <th>iron_100g</th>\n",
       "      <th>magnesium_100g</th>\n",
       "      <th>potassium_100g</th>\n",
       "      <th>zinc_100g</th>\n",
       "    </tr>\n",
       "  </thead>\n",
       "  <tbody>\n",
       "    <tr>\n",
       "      <th>count</th>\n",
       "      <td>302762.000000</td>\n",
       "      <td>3.027620e+05</td>\n",
       "      <td>302762.000000</td>\n",
       "      <td>302762.000000</td>\n",
       "      <td>302762.000000</td>\n",
       "      <td>302762.000000</td>\n",
       "      <td>302762.000000</td>\n",
       "      <td>302762.000000</td>\n",
       "      <td>302762.000000</td>\n",
       "      <td>302762.000000</td>\n",
       "      <td>302762.000000</td>\n",
       "      <td>302762.000000</td>\n",
       "      <td>302762.000000</td>\n",
       "      <td>302762.000000</td>\n",
       "      <td>302762.000000</td>\n",
       "      <td>302762.000000</td>\n",
       "    </tr>\n",
       "    <tr>\n",
       "      <th>mean</th>\n",
       "      <td>0.000180</td>\n",
       "      <td>1.849958e-07</td>\n",
       "      <td>0.000241</td>\n",
       "      <td>0.000104</td>\n",
       "      <td>0.006694</td>\n",
       "      <td>0.011456</td>\n",
       "      <td>0.009245</td>\n",
       "      <td>0.000560</td>\n",
       "      <td>0.000386</td>\n",
       "      <td>0.000119</td>\n",
       "      <td>0.000002</td>\n",
       "      <td>0.047375</td>\n",
       "      <td>0.001637</td>\n",
       "      <td>0.002837</td>\n",
       "      <td>0.026462</td>\n",
       "      <td>0.000103</td>\n",
       "    </tr>\n",
       "    <tr>\n",
       "      <th>std</th>\n",
       "      <td>0.049393</td>\n",
       "      <td>5.491186e-05</td>\n",
       "      <td>0.046103</td>\n",
       "      <td>0.056794</td>\n",
       "      <td>0.313882</td>\n",
       "      <td>0.379051</td>\n",
       "      <td>0.246074</td>\n",
       "      <td>0.053068</td>\n",
       "      <td>0.168448</td>\n",
       "      <td>0.044098</td>\n",
       "      <td>0.000730</td>\n",
       "      <td>0.402504</td>\n",
       "      <td>0.144770</td>\n",
       "      <td>0.137774</td>\n",
       "      <td>0.316931</td>\n",
       "      <td>0.009264</td>\n",
       "    </tr>\n",
       "    <tr>\n",
       "      <th>min</th>\n",
       "      <td>0.000000</td>\n",
       "      <td>0.000000e+00</td>\n",
       "      <td>0.000000</td>\n",
       "      <td>0.000000</td>\n",
       "      <td>0.000000</td>\n",
       "      <td>0.000000</td>\n",
       "      <td>0.000000</td>\n",
       "      <td>0.000000</td>\n",
       "      <td>0.000000</td>\n",
       "      <td>0.000000</td>\n",
       "      <td>0.000000</td>\n",
       "      <td>0.000000</td>\n",
       "      <td>0.000000</td>\n",
       "      <td>0.000000</td>\n",
       "      <td>0.000000</td>\n",
       "      <td>0.000000</td>\n",
       "    </tr>\n",
       "    <tr>\n",
       "      <th>25%</th>\n",
       "      <td>0.000000</td>\n",
       "      <td>0.000000e+00</td>\n",
       "      <td>0.000000</td>\n",
       "      <td>0.000000</td>\n",
       "      <td>0.000000</td>\n",
       "      <td>0.000000</td>\n",
       "      <td>0.000000</td>\n",
       "      <td>0.000000</td>\n",
       "      <td>0.000000</td>\n",
       "      <td>0.000000</td>\n",
       "      <td>0.000000</td>\n",
       "      <td>0.000000</td>\n",
       "      <td>0.000000</td>\n",
       "      <td>0.000000</td>\n",
       "      <td>0.000000</td>\n",
       "      <td>0.000000</td>\n",
       "    </tr>\n",
       "    <tr>\n",
       "      <th>50%</th>\n",
       "      <td>0.000000</td>\n",
       "      <td>0.000000e+00</td>\n",
       "      <td>0.000000</td>\n",
       "      <td>0.000000</td>\n",
       "      <td>0.000000</td>\n",
       "      <td>0.000000</td>\n",
       "      <td>0.000000</td>\n",
       "      <td>0.000000</td>\n",
       "      <td>0.000000</td>\n",
       "      <td>0.000000</td>\n",
       "      <td>0.000000</td>\n",
       "      <td>0.000000</td>\n",
       "      <td>0.000000</td>\n",
       "      <td>0.000000</td>\n",
       "      <td>0.000000</td>\n",
       "      <td>0.000000</td>\n",
       "    </tr>\n",
       "    <tr>\n",
       "      <th>75%</th>\n",
       "      <td>0.000000</td>\n",
       "      <td>0.000000e+00</td>\n",
       "      <td>0.000000</td>\n",
       "      <td>0.000000</td>\n",
       "      <td>0.000000</td>\n",
       "      <td>0.000000</td>\n",
       "      <td>0.000000</td>\n",
       "      <td>0.000000</td>\n",
       "      <td>0.000000</td>\n",
       "      <td>0.000000</td>\n",
       "      <td>0.000000</td>\n",
       "      <td>0.028000</td>\n",
       "      <td>0.000850</td>\n",
       "      <td>0.000000</td>\n",
       "      <td>0.000000</td>\n",
       "      <td>0.000000</td>\n",
       "    </tr>\n",
       "    <tr>\n",
       "      <th>max</th>\n",
       "      <td>26.700000</td>\n",
       "      <td>3.000000e-02</td>\n",
       "      <td>15.100000</td>\n",
       "      <td>31.250000</td>\n",
       "      <td>100.000000</td>\n",
       "      <td>92.600000</td>\n",
       "      <td>42.500000</td>\n",
       "      <td>21.428571</td>\n",
       "      <td>92.600000</td>\n",
       "      <td>23.076923</td>\n",
       "      <td>0.400000</td>\n",
       "      <td>99.006000</td>\n",
       "      <td>50.000000</td>\n",
       "      <td>39.500000</td>\n",
       "      <td>66.667000</td>\n",
       "      <td>4.000000</td>\n",
       "    </tr>\n",
       "  </tbody>\n",
       "</table>\n",
       "</div>"
      ],
      "text/plain": [
       "       vitamin_a_100g  vitamin_d_100g  vitamin_e_100g  vitamin_k_100g  \\\n",
       "count   302762.000000    3.027620e+05   302762.000000   302762.000000   \n",
       "mean         0.000180    1.849958e-07        0.000241        0.000104   \n",
       "std          0.049393    5.491186e-05        0.046103        0.056794   \n",
       "min          0.000000    0.000000e+00        0.000000        0.000000   \n",
       "25%          0.000000    0.000000e+00        0.000000        0.000000   \n",
       "50%          0.000000    0.000000e+00        0.000000        0.000000   \n",
       "75%          0.000000    0.000000e+00        0.000000        0.000000   \n",
       "max         26.700000    3.000000e-02       15.100000       31.250000   \n",
       "\n",
       "       vitamin_c_100g  vitamin_b1_100g  vitamin_b2_100g  vitamin_pp_100g  \\\n",
       "count   302762.000000    302762.000000    302762.000000    302762.000000   \n",
       "mean         0.006694         0.011456         0.009245         0.000560   \n",
       "std          0.313882         0.379051         0.246074         0.053068   \n",
       "min          0.000000         0.000000         0.000000         0.000000   \n",
       "25%          0.000000         0.000000         0.000000         0.000000   \n",
       "50%          0.000000         0.000000         0.000000         0.000000   \n",
       "75%          0.000000         0.000000         0.000000         0.000000   \n",
       "max        100.000000        92.600000        42.500000        21.428571   \n",
       "\n",
       "       vitamin_b6_100g  vitamin_b9_100g  vitamin_b12_100g   calcium_100g  \\\n",
       "count    302762.000000    302762.000000     302762.000000  302762.000000   \n",
       "mean          0.000386         0.000119          0.000002       0.047375   \n",
       "std           0.168448         0.044098          0.000730       0.402504   \n",
       "min           0.000000         0.000000          0.000000       0.000000   \n",
       "25%           0.000000         0.000000          0.000000       0.000000   \n",
       "50%           0.000000         0.000000          0.000000       0.000000   \n",
       "75%           0.000000         0.000000          0.000000       0.028000   \n",
       "max          92.600000        23.076923          0.400000      99.006000   \n",
       "\n",
       "           iron_100g  magnesium_100g  potassium_100g      zinc_100g  \n",
       "count  302762.000000   302762.000000   302762.000000  302762.000000  \n",
       "mean        0.001637        0.002837        0.026462       0.000103  \n",
       "std         0.144770        0.137774        0.316931       0.009264  \n",
       "min         0.000000        0.000000        0.000000       0.000000  \n",
       "25%         0.000000        0.000000        0.000000       0.000000  \n",
       "50%         0.000000        0.000000        0.000000       0.000000  \n",
       "75%         0.000850        0.000000        0.000000       0.000000  \n",
       "max        50.000000       39.500000       66.667000       4.000000  "
      ]
     },
     "execution_count": 115,
     "metadata": {},
     "output_type": "execute_result"
    }
   ],
   "source": [
    "clean_data[nutri_summary_mg].describe()"
   ]
  },
  {
   "cell_type": "code",
   "execution_count": 116,
   "metadata": {},
   "outputs": [
    {
     "name": "stdout",
     "output_type": "stream",
     "text": [
      "fat_100g\n",
      "Number of outliers\n",
      "0\n",
      "saturated_fat_100g\n",
      "Number of outliers\n",
      "0\n",
      "trans_fat_100g\n",
      "Number of outliers\n",
      "0\n",
      "carbohydrates_100g\n",
      "Number of outliers\n",
      "0\n",
      "sugars_100g\n",
      "Number of outliers\n",
      "0\n",
      "fiber_100g\n",
      "Number of outliers\n",
      "0\n",
      "proteins_100g\n",
      "Number of outliers\n",
      "0\n",
      "salt_100g\n",
      "Number of outliers\n",
      "0\n"
     ]
    }
   ],
   "source": [
    "# amount of points outside \n",
    "count_wrong_data(clean_data,nutri_summary_g,0,100)"
   ]
  },
  {
   "cell_type": "code",
   "execution_count": 117,
   "metadata": {},
   "outputs": [
    {
     "name": "stdout",
     "output_type": "stream",
     "text": [
      "vitamin_a_100g\n",
      "Number of outliers\n",
      "0\n",
      "vitamin_d_100g\n",
      "Number of outliers\n",
      "0\n",
      "vitamin_e_100g\n",
      "Number of outliers\n",
      "0\n",
      "vitamin_k_100g\n",
      "Number of outliers\n",
      "0\n",
      "vitamin_c_100g\n",
      "Number of outliers\n",
      "0\n",
      "vitamin_b1_100g\n",
      "Number of outliers\n",
      "0\n",
      "vitamin_b2_100g\n",
      "Number of outliers\n",
      "0\n",
      "vitamin_pp_100g\n",
      "Number of outliers\n",
      "0\n",
      "vitamin_b6_100g\n",
      "Number of outliers\n",
      "0\n",
      "vitamin_b9_100g\n",
      "Number of outliers\n",
      "0\n",
      "vitamin_b12_100g\n",
      "Number of outliers\n",
      "0\n",
      "calcium_100g\n",
      "Number of outliers\n",
      "0\n",
      "iron_100g\n",
      "Number of outliers\n",
      "0\n",
      "magnesium_100g\n",
      "Number of outliers\n",
      "0\n",
      "potassium_100g\n",
      "Number of outliers\n",
      "0\n",
      "zinc_100g\n",
      "Number of outliers\n",
      "0\n"
     ]
    }
   ],
   "source": [
    "# amount of points outside \n",
    "count_wrong_data(clean_data,nutri_summary_mg,0,100)"
   ]
  },
  {
   "cell_type": "markdown",
   "metadata": {},
   "source": [
    "#### 11. For nutriments in g/100g => number of lines  > (Q3 + 1.5 * IQR)"
   ]
  },
  {
   "cell_type": "code",
   "execution_count": 118,
   "metadata": {},
   "outputs": [],
   "source": [
    "def count_outliers(data,list_columns):\n",
    "    for composant in list_columns:\n",
    "        # defition of the indicators\n",
    "        max_comp = data[composant].max()\n",
    "        qtiles_1_3 = list(data[composant].quantile([0.25,0.75]))\n",
    "        inter_qt = (qtiles_1_3[1]-qtiles_1_3[0])\n",
    "        max_IQR = qtiles_1_3[1] + 1.5*inter_qt\n",
    "        lim_sup = min(max_comp,max_IQR)\n",
    "        \n",
    "        tot_length = data.shape[0]\n",
    "        print(composant.upper())\n",
    "        print(max_IQR)\n",
    "        criteria = (data[composant]> lim_sup)\n",
    "        print(\"Number of outliers\")\n",
    "        print(criteria.sum())   \n",
    "        print(\"% of outliers vs length data\")\n",
    "        print((criteria.sum()/tot_length)*100)\n",
    "        print(\"\")"
   ]
  },
  {
   "cell_type": "code",
   "execution_count": 119,
   "metadata": {},
   "outputs": [],
   "source": [
    "def count_outliers_INF(data,list_columns):\n",
    "    for composant in list_columns:\n",
    "        # defition of the indicators\n",
    "        min_comp = data[composant].min()\n",
    "        qtiles_1_3 = list(data[composant].quantile([0.25,0.75]))\n",
    "        inter_qt = (qtiles_1_3[1]-qtiles_1_3[0])\n",
    "        min_IQR = qtiles_1_3[0] - 1.5*inter_qt\n",
    "        lim_inf = max(min_comp,min_IQR)\n",
    "        \n",
    "        tot_length = data.shape[0]\n",
    "        print(composant.upper())\n",
    "        print(min_IQR)\n",
    "        criteria = (data[composant]< lim_inf)\n",
    "        print(\"Number of outliers\")\n",
    "        print(criteria.sum())   \n",
    "        print(\"% of outliers vs length data\")\n",
    "        print((criteria.sum()/tot_length)*100)\n",
    "        print(\"\")"
   ]
  },
  {
   "cell_type": "code",
   "execution_count": 120,
   "metadata": {},
   "outputs": [
    {
     "name": "stdout",
     "output_type": "stream",
     "text": [
      "FAT_100G\n",
      "38.45\n",
      "Number of outliers\n",
      "17329\n",
      "% of outliers vs length data\n",
      "5.723637708827396\n",
      "\n",
      "SATURATED_FAT_100G\n",
      "12.5\n",
      "Number of outliers\n",
      "31806\n",
      "% of outliers vs length data\n",
      "10.505281376130426\n",
      "\n",
      "TRANS_FAT_100G\n",
      "0.0\n",
      "Number of outliers\n",
      "2987\n",
      "% of outliers vs length data\n",
      "0.9865835210495373\n",
      "\n",
      "CARBOHYDRATES_100G\n",
      "126.5\n",
      "Number of outliers\n",
      "0\n",
      "% of outliers vs length data\n",
      "0.0\n",
      "\n",
      "SUGARS_100G\n",
      "41.5\n",
      "Number of outliers\n",
      "33308\n",
      "% of outliers vs length data\n",
      "11.001380622403076\n",
      "\n",
      "FIBER_100G\n",
      "6.0\n",
      "Number of outliers\n",
      "29308\n",
      "% of outliers vs length data\n",
      "9.680210858694288\n",
      "\n",
      "PROTEINS_100G\n",
      "21.75\n",
      "Number of outliers\n",
      "16494\n",
      "% of outliers vs length data\n",
      "5.447843520653187\n",
      "\n",
      "SALT_100G\n",
      "2.9464\n",
      "Number of outliers\n",
      "19410\n",
      "% of outliers vs length data\n",
      "6.410976278396893\n",
      "\n"
     ]
    }
   ],
   "source": [
    "count_outliers(clean_data,nutri_summary_g)"
   ]
  },
  {
   "cell_type": "code",
   "execution_count": 121,
   "metadata": {},
   "outputs": [
    {
     "name": "stdout",
     "output_type": "stream",
     "text": [
      "VITAMIN_A_100G\n",
      "0.0\n",
      "Number of outliers\n",
      "58832\n",
      "% of outliers vs length data\n",
      "19.431764884628848\n",
      "\n",
      "VITAMIN_D_100G\n",
      "0.0\n",
      "Number of outliers\n",
      "6661\n",
      "% of outliers vs length data\n",
      "2.200077949016059\n",
      "\n",
      "VITAMIN_E_100G\n",
      "0.0\n",
      "Number of outliers\n",
      "1263\n",
      "% of outliers vs length data\n",
      "0.4171593528910497\n",
      "\n",
      "VITAMIN_K_100G\n",
      "0.0\n",
      "Number of outliers\n",
      "857\n",
      "% of outliers vs length data\n",
      "0.2830606218746078\n",
      "\n",
      "VITAMIN_C_100G\n",
      "0.0\n",
      "Number of outliers\n",
      "50228\n",
      "% of outliers vs length data\n",
      "16.589928722891248\n",
      "\n",
      "VITAMIN_B1_100G\n",
      "0.0\n",
      "Number of outliers\n",
      "10762\n",
      "% of outliers vs length data\n",
      "3.5546072492584937\n",
      "\n",
      "VITAMIN_B2_100G\n",
      "0.0\n",
      "Number of outliers\n",
      "10399\n",
      "% of outliers vs length data\n",
      "3.4347110932019214\n",
      "\n",
      "VITAMIN_PP_100G\n",
      "0.0\n",
      "Number of outliers\n",
      "11424\n",
      "% of outliers vs length data\n",
      "3.773260845152298\n",
      "\n",
      "VITAMIN_B6_100G\n",
      "0.0\n",
      "Number of outliers\n",
      "6584\n",
      "% of outliers vs length data\n",
      "2.174645431064665\n",
      "\n",
      "VITAMIN_B9_100G\n",
      "0.0\n",
      "Number of outliers\n",
      "5179\n",
      "% of outliers vs length data\n",
      "1.710584551561953\n",
      "\n",
      "VITAMIN_B12_100G\n",
      "0.0\n",
      "Number of outliers\n",
      "5140\n",
      "% of outliers vs length data\n",
      "1.6977031463657921\n",
      "\n",
      "CALCIUM_100G\n",
      "0.06999999999999999\n",
      "Number of outliers\n",
      "51536\n",
      "% of outliers vs length data\n",
      "17.021951235624023\n",
      "\n",
      "IRON_100G\n",
      "0.0021249999999999997\n",
      "Number of outliers\n",
      "40528\n",
      "% of outliers vs length data\n",
      "13.386092045897438\n",
      "\n",
      "MAGNESIUM_100G\n",
      "0.0\n",
      "Number of outliers\n",
      "6118\n",
      "% of outliers vs length data\n",
      "2.020729153592591\n",
      "\n",
      "POTASSIUM_100G\n",
      "0.0\n",
      "Number of outliers\n",
      "23928\n",
      "% of outliers vs length data\n",
      "7.9032375265059684\n",
      "\n",
      "ZINC_100G\n",
      "0.0\n",
      "Number of outliers\n",
      "3834\n",
      "% of outliers vs length data\n",
      "1.266341218514873\n",
      "\n"
     ]
    }
   ],
   "source": [
    "count_outliers(clean_data,nutri_summary_mg)"
   ]
  },
  {
   "cell_type": "markdown",
   "metadata": {},
   "source": [
    "#### 12. Outliers for energy_100g"
   ]
  },
  {
   "cell_type": "code",
   "execution_count": 138,
   "metadata": {},
   "outputs": [
    {
     "name": "stdout",
     "output_type": "stream",
     "text": [
      "ENERGY_100G\n",
      "3558.0\n",
      "Number of outliers\n",
      "1104\n",
      "% of outliers vs length data\n",
      "0.45411728895269204\n",
      "\n"
     ]
    }
   ],
   "source": [
    "# compute the Q3 + 1.5*Interquartile and amount of observations above for non zero energy\n",
    "count_outliers(clean_data.query('energy_100g !=0'),[\"energy_100g\"])"
   ]
  },
  {
   "cell_type": "markdown",
   "metadata": {},
   "source": [
    "##### Define"
   ]
  },
  {
   "cell_type": "markdown",
   "metadata": {},
   "source": [
    "Seen the amount of outliers above Q3 + 1.5*Interquartile, we decide to delete them"
   ]
  },
  {
   "cell_type": "markdown",
   "metadata": {},
   "source": [
    "##### Code"
   ]
  },
  {
   "cell_type": "code",
   "execution_count": 139,
   "metadata": {},
   "outputs": [],
   "source": [
    "clean_data = clean_data.query('energy_100g < 3558')"
   ]
  },
  {
   "cell_type": "markdown",
   "metadata": {},
   "source": [
    "##### Test"
   ]
  },
  {
   "cell_type": "code",
   "execution_count": 140,
   "metadata": {},
   "outputs": [
    {
     "data": {
      "text/plain": [
       "0"
      ]
     },
     "execution_count": 140,
     "metadata": {},
     "output_type": "execute_result"
    }
   ],
   "source": [
    "clean_data[clean_data[\"energy_100g\"]>3558].code.count()"
   ]
  },
  {
   "cell_type": "markdown",
   "metadata": {},
   "source": [
    "#### 13. Outliers for nutrition-score-fr_100g and for nutrition-score-fr_100g"
   ]
  },
  {
   "cell_type": "code",
   "execution_count": 143,
   "metadata": {},
   "outputs": [
    {
     "name": "stdout",
     "output_type": "stream",
     "text": [
      "NUTRITION_SCORE_FR_100G\n",
      "30.5\n",
      "Number of outliers\n",
      "0\n",
      "% of outliers vs length data\n",
      "0.0\n",
      "\n",
      "NUTRITION_SCORE_UK_100G\n",
      "30.5\n",
      "Number of outliers\n",
      "0\n",
      "% of outliers vs length data\n",
      "0.0\n",
      "\n"
     ]
    }
   ],
   "source": [
    "count_outliers(clean_data,[\"nutrition_score_fr_100g\",\"nutrition_score_uk_100g\"])"
   ]
  },
  {
   "cell_type": "code",
   "execution_count": 144,
   "metadata": {},
   "outputs": [
    {
     "name": "stdout",
     "output_type": "stream",
     "text": [
      "NUTRITION_SCORE_FR_100G\n",
      "-13.5\n",
      "Number of outliers\n",
      "0\n",
      "% of outliers vs length data\n",
      "0.0\n",
      "\n",
      "NUTRITION_SCORE_UK_100G\n",
      "-13.5\n",
      "Number of outliers\n",
      "0\n",
      "% of outliers vs length data\n",
      "0.0\n",
      "\n"
     ]
    }
   ],
   "source": [
    "count_outliers_INF(clean_data,nutri_score)"
   ]
  },
  {
   "cell_type": "markdown",
   "metadata": {},
   "source": [
    "##### Define"
   ]
  },
  {
   "cell_type": "markdown",
   "metadata": {},
   "source": [
    "We'll delete the outliers (< -13.5 or > 30.5)"
   ]
  },
  {
   "cell_type": "markdown",
   "metadata": {},
   "source": [
    "##### Code"
   ]
  },
  {
   "cell_type": "code",
   "execution_count": 145,
   "metadata": {},
   "outputs": [],
   "source": [
    "clean_data = clean_data.query('(nutrition_score_fr_100g > -13.5)  and (nutrition_score_fr_100g < 30.5)')"
   ]
  },
  {
   "cell_type": "markdown",
   "metadata": {},
   "source": [
    "##### Test"
   ]
  },
  {
   "cell_type": "code",
   "execution_count": 146,
   "metadata": {},
   "outputs": [
    {
     "data": {
      "text/plain": [
       "0"
      ]
     },
     "execution_count": 146,
     "metadata": {},
     "output_type": "execute_result"
    }
   ],
   "source": [
    "clean_data.query('(nutrition_score_fr_100g < -13.5)  or (nutrition_score_fr_100g > 30.5)').code.count()"
   ]
  },
  {
   "cell_type": "code",
   "execution_count": 147,
   "metadata": {},
   "outputs": [
    {
     "data": {
      "text/plain": [
       "0"
      ]
     },
     "execution_count": 147,
     "metadata": {},
     "output_type": "execute_result"
    }
   ],
   "source": [
    "clean_data.query('(nutrition_score_uk_100g < -13.5)  or (nutrition_score_uk_100g > 30.5)').code.count()"
   ]
  },
  {
   "cell_type": "markdown",
   "metadata": {},
   "source": [
    "#### 14. Delete rows containing more 0.8g of Calcium, Iron or Vitamines"
   ]
  },
  {
   "cell_type": "markdown",
   "metadata": {},
   "source": [
    "##### Define"
   ]
  },
  {
   "cell_type": "markdown",
   "metadata": {},
   "source": [
    "Delete rows having an aberrant value > 0.8"
   ]
  },
  {
   "cell_type": "markdown",
   "metadata": {},
   "source": [
    "##### Code"
   ]
  },
  {
   "cell_type": "code",
   "execution_count": 148,
   "metadata": {},
   "outputs": [],
   "source": [
    "def data_smaller_Xg(data,list_columns,lim_sup):\n",
    "    for composant in list_columns:\n",
    "        # defition of the indicators        \n",
    "        print(composant)\n",
    "        criteria = (data[composant]< lim_sup)\n",
    "        clean_data = data[criteria]\n",
    "        data = clean_data\n",
    "    return clean_data  "
   ]
  },
  {
   "cell_type": "code",
   "execution_count": 149,
   "metadata": {},
   "outputs": [],
   "source": [
    "cleaned_headers = clean_data.columns.values.tolist()\n",
    "vitamines = [i for i in cleaned_headers if i.startswith(\"vitamin_\")]"
   ]
  },
  {
   "cell_type": "code",
   "execution_count": 150,
   "metadata": {},
   "outputs": [
    {
     "name": "stdout",
     "output_type": "stream",
     "text": [
      "['code', 'product_name', 'energy_100g', 'fat_100g', 'saturated_fat_100g', 'trans_fat_100g', 'carbohydrates_100g', 'sugars_100g', 'fiber_100g', 'proteins_100g', 'salt_100g', 'sodium_100g', 'vitamin_a_100g', 'vitamin_d_100g', 'vitamin_e_100g', 'vitamin_k_100g', 'vitamin_c_100g', 'vitamin_b1_100g', 'vitamin_b2_100g', 'vitamin_pp_100g', 'vitamin_b6_100g', 'vitamin_b9_100g', 'vitamin_b12_100g', 'calcium_100g', 'iron_100g', 'magnesium_100g', 'potassium_100g', 'zinc_100g', 'lactose_100g', 'omega_3_fat_100g', 'omega_6_fat_100g', 'omega_9_fat_100g', 'cholesterol_100g', 'alcohol_100g', 'caffeine_100g', 'fruits_vegetables_nuts_100g', 'nutrition_grade_fr', 'nutrition_score_fr_100g', 'nutrition_score_uk_100g', 'nulls_grade_fr']\n"
     ]
    }
   ],
   "source": [
    "print(cleaned_headers)"
   ]
  },
  {
   "cell_type": "code",
   "execution_count": 151,
   "metadata": {},
   "outputs": [
    {
     "name": "stdout",
     "output_type": "stream",
     "text": [
      "calcium_100g\n",
      "iron_100g\n",
      "magnesium_100g\n",
      "potassium_100g\n",
      "zinc_100g\n"
     ]
    }
   ],
   "source": [
    "# start with ['calcium_100g','iron_100g','magnesium_100g', 'potassium_100g', 'zinc_100g']\n",
    "clean_data = data_smaller_Xg(clean_data,['calcium_100g','iron_100g','magnesium_100g', 'potassium_100g', 'zinc_100g'],0.8)"
   ]
  },
  {
   "cell_type": "code",
   "execution_count": 152,
   "metadata": {},
   "outputs": [
    {
     "name": "stdout",
     "output_type": "stream",
     "text": [
      "vitamin_a_100g\n",
      "vitamin_d_100g\n",
      "vitamin_e_100g\n",
      "vitamin_k_100g\n",
      "vitamin_c_100g\n",
      "vitamin_b1_100g\n",
      "vitamin_b2_100g\n",
      "vitamin_pp_100g\n",
      "vitamin_b6_100g\n",
      "vitamin_b9_100g\n",
      "vitamin_b12_100g\n"
     ]
    }
   ],
   "source": [
    "# now for the Vitamines\n",
    "clean_data = data_smaller_Xg(clean_data,vitamines,0.8)"
   ]
  },
  {
   "cell_type": "code",
   "execution_count": 153,
   "metadata": {},
   "outputs": [
    {
     "data": {
      "text/plain": [
       "(295693, 40)"
      ]
     },
     "execution_count": 153,
     "metadata": {},
     "output_type": "execute_result"
    }
   ],
   "source": [
    "clean_data.shape"
   ]
  },
  {
   "cell_type": "markdown",
   "metadata": {},
   "source": [
    "<a id='exporting'></a>\n",
    "### Exporting Cleaned data in csv\n",
    "<a href=\"#table\">Back to table of content</a>"
   ]
  },
  {
   "cell_type": "code",
   "execution_count": 154,
   "metadata": {},
   "outputs": [],
   "source": [
    "clean_data.to_csv('clean_nutri_data.csv', encoding='utf_8', index=False)"
   ]
  },
  {
   "cell_type": "code",
   "execution_count": 103,
   "metadata": {},
   "outputs": [],
   "source": [
    "#test_csv = pd.read_csv('clean_nutri_data.csv', sep=\",\", encoding='utf_8', low_memory=False)"
   ]
  }
 ],
 "metadata": {
  "kernelspec": {
   "display_name": "Python 3",
   "language": "python",
   "name": "python3"
  },
  "language_info": {
   "codemirror_mode": {
    "name": "ipython",
    "version": 3
   },
   "file_extension": ".py",
   "mimetype": "text/x-python",
   "name": "python",
   "nbconvert_exporter": "python",
   "pygments_lexer": "ipython3",
   "version": "3.7.2"
  }
 },
 "nbformat": 4,
 "nbformat_minor": 2
}
